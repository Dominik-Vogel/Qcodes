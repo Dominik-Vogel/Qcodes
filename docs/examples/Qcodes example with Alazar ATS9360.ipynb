{
 "cells": [
  {
   "cell_type": "markdown",
   "metadata": {},
   "source": [
    "### Qcodes example notebook for Alazar card ATS9360 and acq controllers"
   ]
  },
  {
   "cell_type": "code",
   "execution_count": 1,
   "metadata": {
    "collapsed": false
   },
   "outputs": [
    {
     "name": "stdout",
     "output_type": "stream",
     "text": [
      "No loop running\n"
     ]
    }
   ],
   "source": [
    "import qcodes as qc\n",
    "import qcodes.instrument.parameter as parameter\n",
    "import qcodes.instrument_drivers.AlazarTech.ATS9360 as ATSdriver\n",
    "import qcodes.instrument_drivers.AlazarTech.basic_controller as basic_aqc_contr\n",
    "import qcodes.instrument_drivers.AlazarTech.samp_controller as samp_acq_contr\n",
    "import qcodes.instrument_drivers.AlazarTech.samp as samp\n",
    "\n",
    "\n",
    "import logging\n",
    "# logging.basicConfig(filename='example.log',level=logging.INFO)\n",
    "\n",
    "qc.halt_bg()"
   ]
  },
  {
   "cell_type": "markdown",
   "metadata": {},
   "source": [
    "NB: See ATS9870 example notebook for general commands "
   ]
  },
  {
   "cell_type": "code",
   "execution_count": 2,
   "metadata": {
    "collapsed": false
   },
   "outputs": [
    {
     "data": {
      "text/plain": [
       "{'CPLD_version': '25.16',\n",
       " 'SDK_version': '5.9.25',\n",
       " 'asopc_type': '1712554848',\n",
       " 'bits_per_sample': 12,\n",
       " 'driver_version': '5.9.25',\n",
       " 'firmware': None,\n",
       " 'latest_cal_date': '13-11-15',\n",
       " 'max_samples': 4294967294,\n",
       " 'memory_size': '4294967294',\n",
       " 'model': 'ATS9360',\n",
       " 'pcie_link_speed': '0.5GB/s',\n",
       " 'pcie_link_width': '8',\n",
       " 'serial': '970344',\n",
       " 'vendor': 'AlazarTech'}"
      ]
     },
     "execution_count": 2,
     "metadata": {},
     "output_type": "execute_result"
    }
   ],
   "source": [
    "# Create the ATS9360 instrument\n",
    "alazar = ATSdriver.AlazarTech_ATS9360(name='Alazar')\n",
    "# Print all information about this Alazar card\n",
    "alazar.get_idn()"
   ]
  },
  {
   "cell_type": "code",
   "execution_count": 3,
   "metadata": {
    "collapsed": false
   },
   "outputs": [],
   "source": [
    "# Configure all settings in the Alazar card\n",
    "alazar.config(clock_source='EXTERNAL_CLOCK_10MHz_REF',\n",
    "              sample_rate=500000000,\n",
    "              clock_edge='CLOCK_EDGE_RISING',\n",
    "              decimation=1,\n",
    "              coupling=['DC','DC'],\n",
    "              channel_range=[.4,.4],\n",
    "              impedance=[50,50],\n",
    "              trigger_operation='TRIG_ENGINE_OP_J',\n",
    "              trigger_engine1='TRIG_ENGINE_J',\n",
    "              trigger_source1='EXTERNAL',\n",
    "              trigger_slope1='TRIG_SLOPE_POSITIVE',\n",
    "              trigger_level1=140,\n",
    "              trigger_engine2='TRIG_ENGINE_K',\n",
    "              trigger_source2='DISABLE',\n",
    "              trigger_slope2='TRIG_SLOPE_POSITIVE',\n",
    "              trigger_level2=128,\n",
    "              external_trigger_coupling='DC',\n",
    "              external_trigger_range='ETR_2V5',\n",
    "              trigger_delay=0,\n",
    "              timeout_ticks=0,\n",
    "              aux_io_mode='AUX_IN_AUXILIARY', # AUX_IN_TRIGGER_ENABLE for seq mode on\n",
    "              aux_io_param='NONE' # TRIG_SLOPE_POSITIVE for seq mode on\n",
    "             )"
   ]
  },
  {
   "cell_type": "markdown",
   "metadata": {},
   "source": [
    "### Basic Acquisition\n",
    "\n",
    "Pulls the raw data the alazar acquires averaged over number of records buffers."
   ]
  },
  {
   "cell_type": "code",
   "execution_count": 4,
   "metadata": {
    "collapsed": false
   },
   "outputs": [],
   "source": [
    "# Create the acquisition controller which will take care of the data handling and tell it which \n",
    "# alazar instrument to talk to.\n",
    "basic_acq_controller = basic_aqc_contr.Basic_Acquisition_Controller(name='basic_acq_controller', \n",
    "                                                                    alazar_name='Alazar')"
   ]
  },
  {
   "cell_type": "code",
   "execution_count": 8,
   "metadata": {
    "collapsed": false
   },
   "outputs": [],
   "source": [
    "# Configure settings in the controller to be used in an acquisition\n",
    "# nb this must be done before the first acquisition \n",
    "basic_acq_controller.update_acquisition_kwargs(samples_per_record=1024,\n",
    "                                              records_per_buffer=1,\n",
    "                                              buffers_per_acquisition=1,\n",
    "                                              allocated_buffers=1\n",
    "                                              )"
   ]
  },
  {
   "cell_type": "code",
   "execution_count": 6,
   "metadata": {
    "collapsed": false
   },
   "outputs": [
    {
     "name": "stdout",
     "output_type": "stream",
     "text": [
      "(array([-0.0026862 ,  0.0002442 , -0.0007326 , ...,  0.02466422,\n",
      "        0.001221  , -0.02026862]), array([ 0.0002442,  0.0002442, -0.0007326, ...,  0.001221 , -0.0007326,\n",
      "        0.0002442]))\n"
     ]
    }
   ],
   "source": [
    "# Pull data from the card by calling get of the controllers acquisition parameter\n",
    "data1 = basic_acq_controller.acquisition()\n",
    "print(data1)"
   ]
  },
  {
   "cell_type": "code",
   "execution_count": 9,
   "metadata": {
    "collapsed": false
   },
   "outputs": [
    {
     "name": "stdout",
     "output_type": "stream",
     "text": [
      "DataSet:\n",
      "   mode     = DataMode.LOCAL\n",
      "   location = '2017-01-19/16-56-03'\n",
      "   <Type>   | <array_id>             | <array.name> | <array.shape>\n",
      "   Measured | index0                 | index0       | (1024,)\n",
      "   Measured | basic_acq_controller_A | A            | (1024,)\n",
      "   Measured | basic_acq_controller_B | B            | (1024,)\n",
      "acquired at 2017-01-19 16:56:04\n"
     ]
    },
    {
     "data": {
      "image/png": "[encoded data removed]",
      "text/plain": [
       "<qcodes.plots.pyqtgraph.QtPlot at 0xa162940>"
      ]
     },
     "execution_count": 9,
     "metadata": {},
     "output_type": "execute_result"
    }
   ],
   "source": [
    "# Do this in as measurement (effactively the same but saves the data)\n",
    "data2 = qc.Measure(basic_acq_controller.acquisition).run()\n",
    "qc.QtPlot(data2.basic_acq_controller_A )"
   ]
  },
  {
   "cell_type": "code",
   "execution_count": 8,
   "metadata": {
    "collapsed": false
   },
   "outputs": [
    {
     "name": "stdout",
     "output_type": "stream",
     "text": [
      "DataSet:\n",
      "   mode     = DataMode.LOCAL\n",
      "   location = '2017-01-19/15-51-28_AlazarTest'\n",
      "   <Type>   | <array_id>             | <array.name> | <array.shape>\n",
      "   Setpoint | dummy_set              | dummy        | (5,)\n",
      "   Measured | index0                 | index0       | (5, 1024)\n",
      "   Measured | basic_acq_controller_A | A            | (5, 1024)\n",
      "   Measured | basic_acq_controller_B | B            | (5, 1024)\n",
      "started at 2017-01-19 15:51:32\n"
     ]
    },
    {
     "data": {
      "image/png": "[encoded data removed]",
      "text/plain": [
       "<qcodes.plots.pyqtgraph.QtPlot at 0xa659dd8>"
      ]
     },
     "execution_count": 8,
     "metadata": {},
     "output_type": "execute_result"
    }
   ],
   "source": [
    "# Finally show that this instrument also works within a loop\n",
    "dummy = parameter.ManualParameter(name=\"dummy\")\n",
    "\n",
    "data3 = qc.Loop(dummy[0:5:1]).each(basic_acq_controller.acquisition).run(name='AlazarTest')\n",
    "qc.QtPlot(data3.basic_acq_controller_A)"
   ]
  },
  {
   "cell_type": "markdown",
   "metadata": {},
   "source": [
    "### Samples Acquisition\n",
    "\n",
    "This is the same as above except that it does some demodulation at the freqiencies specified"
   ]
  },
  {
   "cell_type": "code",
   "execution_count": 4,
   "metadata": {
    "collapsed": false
   },
   "outputs": [],
   "source": [
    "demod_list = [95e6, 98e6, 100e6, 105e6]"
   ]
  },
  {
   "cell_type": "code",
   "execution_count": 5,
   "metadata": {
    "collapsed": false
   },
   "outputs": [
    {
     "ename": "AttributeError",
     "evalue": "'HD_Samples_Controller' object and its delegates have no attribute 'update_int_time'",
     "output_type": "error",
     "traceback": [
      "\u001b[0;31m---------------------------------------------------------------------------\u001b[0m",
      "\u001b[0;31mAttributeError\u001b[0m                            Traceback (most recent call last)",
      "\u001b[0;32m<ipython-input-5-77768fbd4eee>\u001b[0m in \u001b[0;36m<module>\u001b[0;34m()\u001b[0m\n\u001b[1;32m      3\u001b[0m samp_acq_controller = samp_acq_contr.HD_Samples_Controller(name='samp_acq_controller', \n\u001b[1;32m      4\u001b[0m                                                            \u001b[0malazar_name\u001b[0m\u001b[1;33m=\u001b[0m\u001b[1;34m'Alazar'\u001b[0m\u001b[1;33m,\u001b[0m\u001b[1;33m\u001b[0m\u001b[0m\n\u001b[0;32m----> 5\u001b[0;31m                                                           demod_freqs=demod_list)\n\u001b[0m",
      "\u001b[0;32ma:\\qcodes\\qcodes\\instrument\\metaclass.py\u001b[0m in \u001b[0;36m__call__\u001b[0;34m(cls, server_name, *args, **kwargs)\u001b[0m\n\u001b[1;32m     32\u001b[0m         \"\"\"\n\u001b[1;32m     33\u001b[0m         \u001b[1;32mif\u001b[0m \u001b[0mserver_name\u001b[0m \u001b[1;32mis\u001b[0m \u001b[1;32mNone\u001b[0m\u001b[1;33m:\u001b[0m\u001b[1;33m\u001b[0m\u001b[0m\n\u001b[0;32m---> 34\u001b[0;31m             \u001b[0minstrument\u001b[0m \u001b[1;33m=\u001b[0m \u001b[0msuper\u001b[0m\u001b[1;33m(\u001b[0m\u001b[1;33m)\u001b[0m\u001b[1;33m.\u001b[0m\u001b[0m__call__\u001b[0m\u001b[1;33m(\u001b[0m\u001b[1;33m*\u001b[0m\u001b[0margs\u001b[0m\u001b[1;33m,\u001b[0m \u001b[1;33m**\u001b[0m\u001b[0mkwargs\u001b[0m\u001b[1;33m)\u001b[0m\u001b[1;33m\u001b[0m\u001b[0m\n\u001b[0m\u001b[1;32m     35\u001b[0m         \u001b[1;32melse\u001b[0m\u001b[1;33m:\u001b[0m\u001b[1;33m\u001b[0m\u001b[0m\n\u001b[1;32m     36\u001b[0m             warnings.warn('Multiprocessing is in beta, use at own risk',\n",
      "\u001b[0;32ma:\\qcodes\\qcodes\\instrument_drivers\\AlazarTech\\samp_controller.py\u001b[0m in \u001b[0;36m__init__\u001b[0;34m(self, name, alazar_name, demod_freqs, filter, numtaps, chan_b, **kwargs)\u001b[0m\n\u001b[1;32m    106\u001b[0m         self.add_parameter(name='int_time',\n\u001b[1;32m    107\u001b[0m                            \u001b[0minitial_value\u001b[0m\u001b[1;33m=\u001b[0m\u001b[1;32mNone\u001b[0m\u001b[1;33m,\u001b[0m\u001b[1;33m\u001b[0m\u001b[0m\n\u001b[0;32m--> 108\u001b[0;31m                            \u001b[0mcheck_and_update_fn\u001b[0m\u001b[1;33m=\u001b[0m\u001b[0mself\u001b[0m\u001b[1;33m.\u001b[0m\u001b[0mupdate_int_time\u001b[0m\u001b[1;33m,\u001b[0m\u001b[1;33m\u001b[0m\u001b[0m\n\u001b[0m\u001b[1;32m    109\u001b[0m                            \u001b[0mdefault_fn\u001b[0m\u001b[1;33m=\u001b[0m\u001b[0mself\u001b[0m\u001b[1;33m.\u001b[0m\u001b[0mint_time_default\u001b[0m\u001b[1;33m,\u001b[0m\u001b[1;33m\u001b[0m\u001b[0m\n\u001b[1;32m    110\u001b[0m                            parameter_class=AcqParameter)\n",
      "\u001b[0;32ma:\\qcodes\\qcodes\\utils\\helpers.py\u001b[0m in \u001b[0;36m__getattr__\u001b[0;34m(self, key)\u001b[0m\n\u001b[1;32m    321\u001b[0m         raise AttributeError(\n\u001b[1;32m    322\u001b[0m             \"'{}' object and its delegates have no attribute '{}'\".format(\n\u001b[0;32m--> 323\u001b[0;31m                 self.__class__.__name__, key))\n\u001b[0m\u001b[1;32m    324\u001b[0m \u001b[1;33m\u001b[0m\u001b[0m\n\u001b[1;32m    325\u001b[0m     \u001b[1;32mdef\u001b[0m \u001b[0m__dir__\u001b[0m\u001b[1;33m(\u001b[0m\u001b[0mself\u001b[0m\u001b[1;33m)\u001b[0m\u001b[1;33m:\u001b[0m\u001b[1;33m\u001b[0m\u001b[0m\n",
      "\u001b[0;31mAttributeError\u001b[0m: 'HD_Samples_Controller' object and its delegates have no attribute 'update_int_time'"
     ]
    }
   ],
   "source": [
    "# Create the acquisition controller which will take care of the data handling and tell it which \n",
    "# alazar instrument to talk to.\n",
    "samp_acq_controller = samp_acq_contr.HD_Samples_Controller(name='samp_acq_controller', \n",
    "                                                           alazar_name='Alazar',\n",
    "                                                          demod_freqs=demod_list)"
   ]
  },
  {
   "cell_type": "code",
   "execution_count": 6,
   "metadata": {
    "collapsed": false
   },
   "outputs": [],
   "source": [
    "# This command is specific to this acquisition controller. The kwargs provided here are being forwarded to ats_inst.acquire\n",
    "# This way, it becomes easy to change acquisition specific settings from the ipython notebook\n",
    "samp_acq_controller.update_acquisition_kwargs(\n",
    "                 records_per_buffer=1,\n",
    "                 buffers_per_acquisition=1,\n",
    "                 allocated_buffers=1\n",
    ")"
   ]
  },
  {
   "cell_type": "code",
   "execution_count": 10,
   "metadata": {
    "collapsed": false
   },
   "outputs": [],
   "source": [
    "samp_acq_controller.demod_freq_0(90e6)\n",
    "samp_acq_controller.demod_freq_1(98e6)\n",
    "samp_acq_controller.demod_freq_2(100e6)\n",
    "samp_acq_controller.demod_freq_3(110e6)"
   ]
  },
  {
   "cell_type": "code",
   "execution_count": 7,
   "metadata": {
    "collapsed": false
   },
   "outputs": [
    {
     "ename": "TypeError",
     "evalue": "int_delay_default() missing 1 required positional argument: 'param'",
     "output_type": "error",
     "traceback": [
      "\u001b[0;31m---------------------------------------------------------------------------\u001b[0m",
      "\u001b[0;31mTypeError\u001b[0m                                 Traceback (most recent call last)",
      "\u001b[0;32m<ipython-input-7-be2ce0d4bf85>\u001b[0m in \u001b[0;36m<module>\u001b[0;34m()\u001b[0m\n\u001b[0;32m----> 1\u001b[0;31m \u001b[0msamp_acq_controller\u001b[0m\u001b[1;33m.\u001b[0m\u001b[0mint_time\u001b[0m\u001b[1;33m(\u001b[0m\u001b[1;36m5e-6\u001b[0m\u001b[1;33m)\u001b[0m\u001b[1;33m\u001b[0m\u001b[0m\n\u001b[0m",
      "\u001b[0;32ma:\\qcodes\\qcodes\\instrument\\parameter.py\u001b[0m in \u001b[0;36m__call__\u001b[0;34m(self, *args)\u001b[0m\n\u001b[1;32m    270\u001b[0m         \u001b[1;32melse\u001b[0m\u001b[1;33m:\u001b[0m\u001b[1;33m\u001b[0m\u001b[0m\n\u001b[1;32m    271\u001b[0m             \u001b[1;32mif\u001b[0m \u001b[0mself\u001b[0m\u001b[1;33m.\u001b[0m\u001b[0mhas_set\u001b[0m\u001b[1;33m:\u001b[0m\u001b[1;33m\u001b[0m\u001b[0m\n\u001b[0;32m--> 272\u001b[0;31m                 \u001b[0mself\u001b[0m\u001b[1;33m.\u001b[0m\u001b[0mset\u001b[0m\u001b[1;33m(\u001b[0m\u001b[1;33m*\u001b[0m\u001b[0margs\u001b[0m\u001b[1;33m)\u001b[0m\u001b[1;33m\u001b[0m\u001b[0m\n\u001b[0m\u001b[1;32m    273\u001b[0m             \u001b[1;32melse\u001b[0m\u001b[1;33m:\u001b[0m\u001b[1;33m\u001b[0m\u001b[0m\n\u001b[1;32m    274\u001b[0m                 raise NoCommandError('no set cmd found in' +\n",
      "\u001b[0;32ma:\\qcodes\\qcodes\\instrument_drivers\\AlazarTech\\samp_controller.py\u001b[0m in \u001b[0;36mset\u001b[0;34m(self, value)\u001b[0m\n\u001b[1;32m     18\u001b[0m \u001b[1;33m\u001b[0m\u001b[0m\n\u001b[1;32m     19\u001b[0m     \u001b[1;32mdef\u001b[0m \u001b[0mset\u001b[0m\u001b[1;33m(\u001b[0m\u001b[0mself\u001b[0m\u001b[1;33m,\u001b[0m \u001b[0mvalue\u001b[0m\u001b[1;33m)\u001b[0m\u001b[1;33m:\u001b[0m\u001b[1;33m\u001b[0m\u001b[0m\n\u001b[0;32m---> 20\u001b[0;31m         \u001b[0mself\u001b[0m\u001b[1;33m.\u001b[0m\u001b[0m_check_val\u001b[0m\u001b[1;33m(\u001b[0m\u001b[0mvalue\u001b[0m\u001b[1;33m)\u001b[0m\u001b[1;33m\u001b[0m\u001b[0m\n\u001b[0m\u001b[1;32m     21\u001b[0m         \u001b[0mself\u001b[0m\u001b[1;33m.\u001b[0m\u001b[0m_save_val\u001b[0m\u001b[1;33m(\u001b[0m\u001b[0mvalue\u001b[0m\u001b[1;33m)\u001b[0m\u001b[1;33m\u001b[0m\u001b[0m\n\u001b[1;32m     22\u001b[0m \u001b[1;33m\u001b[0m\u001b[0m\n",
      "\u001b[0;32ma:\\qcodes\\qcodes\\instrument_drivers\\AlazarTech\\samp_controller.py\u001b[0m in \u001b[0;36mint_time_validate\u001b[0;34m(instr, value)\u001b[0m\n\u001b[1;32m    143\u001b[0m                             'demodulation frequency'.format(oversampling))\n\u001b[1;32m    144\u001b[0m         \u001b[1;32mif\u001b[0m \u001b[0minstr\u001b[0m\u001b[1;33m.\u001b[0m\u001b[0mint_delay\u001b[0m\u001b[1;33m(\u001b[0m\u001b[1;33m)\u001b[0m \u001b[1;32mis\u001b[0m \u001b[1;32mNone\u001b[0m\u001b[1;33m:\u001b[0m\u001b[1;33m\u001b[0m\u001b[0m\n\u001b[0;32m--> 145\u001b[0;31m             \u001b[0minstr\u001b[0m\u001b[1;33m.\u001b[0m\u001b[0mint_delay\u001b[0m\u001b[1;33m.\u001b[0m\u001b[0mset_to_default\u001b[0m\u001b[1;33m(\u001b[0m\u001b[1;33m)\u001b[0m\u001b[1;33m\u001b[0m\u001b[0m\n\u001b[0m\u001b[1;32m    146\u001b[0m \u001b[1;33m\u001b[0m\u001b[0m\n\u001b[1;32m    147\u001b[0m         \u001b[1;31m# update acquisition parameter shapes\u001b[0m\u001b[1;33m\u001b[0m\u001b[1;33m\u001b[0m\u001b[0m\n",
      "\u001b[0;32ma:\\qcodes\\qcodes\\instrument_drivers\\AlazarTech\\samp_controller.py\u001b[0m in \u001b[0;36mset_to_default\u001b[0;34m(self)\u001b[0m\n\u001b[1;32m     31\u001b[0m \u001b[1;33m\u001b[0m\u001b[0m\n\u001b[1;32m     32\u001b[0m     \u001b[1;32mdef\u001b[0m \u001b[0mset_to_default\u001b[0m\u001b[1;33m(\u001b[0m\u001b[0mself\u001b[0m\u001b[1;33m)\u001b[0m\u001b[1;33m:\u001b[0m\u001b[1;33m\u001b[0m\u001b[0m\n\u001b[0;32m---> 33\u001b[0;31m         \u001b[0mdefault\u001b[0m \u001b[1;33m=\u001b[0m \u001b[0mself\u001b[0m\u001b[1;33m.\u001b[0m\u001b[0m_get_default\u001b[0m\u001b[1;33m(\u001b[0m\u001b[1;33m)\u001b[0m\u001b[1;33m\u001b[0m\u001b[0m\n\u001b[0m\u001b[1;32m     34\u001b[0m         \u001b[0mself\u001b[0m\u001b[1;33m.\u001b[0m\u001b[0mset\u001b[0m\u001b[1;33m(\u001b[0m\u001b[0mdefault\u001b[0m\u001b[1;33m)\u001b[0m\u001b[1;33m\u001b[0m\u001b[0m\n\u001b[1;32m     35\u001b[0m \u001b[1;33m\u001b[0m\u001b[0m\n",
      "\u001b[0;31mTypeError\u001b[0m: int_delay_default() missing 1 required positional argument: 'param'"
     ]
    }
   ],
   "source": [
    "samp_acq_controller.int_time(5e-6)"
   ]
  },
  {
   "cell_type": "code",
   "execution_count": 37,
   "metadata": {
    "collapsed": false
   },
   "outputs": [
    {
     "name": "stderr",
     "output_type": "stream",
     "text": [
      "WARNING:root:delay is less than recommended for filter choice: (expect delay >= 2e-07\n"
     ]
    }
   ],
   "source": [
    "samp_acq_controller.int_delay(1e-7)"
   ]
  },
  {
   "cell_type": "code",
   "execution_count": 38,
   "metadata": {
    "collapsed": false
   },
   "outputs": [
    {
     "data": {
      "text/plain": [
       "{'allocated_buffers': 1,\n",
       " 'buffers_per_acquisition': 1,\n",
       " 'records_per_buffer': 1,\n",
       " 'samples_per_record': 2560}"
      ]
     },
     "execution_count": 38,
     "metadata": {},
     "output_type": "execute_result"
    }
   ],
   "source": [
    "samp_acq_controller.acquisition.acquisition_kwargs"
   ]
  },
  {
   "cell_type": "code",
   "execution_count": 16,
   "metadata": {
    "collapsed": false
   },
   "outputs": [],
   "source": [
    "samp_acq_controller.demod_freq_3(20e6)\n",
    "samp_acq_controller.demod_freq_1(1e6)"
   ]
  },
  {
   "cell_type": "code",
   "execution_count": 17,
   "metadata": {
    "collapsed": false
   },
   "outputs": [
    {
     "name": "stderr",
     "output_type": "stream",
     "text": [
      "WARNING:root:delay is less than recommended for filter choice: (expect delay >= 2e-07\n"
     ]
    },
    {
     "ename": "AttributeError",
     "evalue": "'HD_Samples_Controller' object and its delegates have no attribute 'get_max_total_sample_time'",
     "output_type": "error",
     "traceback": [
      "\u001b[0;31m---------------------------------------------------------------------------\u001b[0m",
      "\u001b[0;31mAttributeError\u001b[0m                            Traceback (most recent call last)",
      "\u001b[0;32m<ipython-input-17-b33416f008be>\u001b[0m in \u001b[0;36m<module>\u001b[0;34m()\u001b[0m\n\u001b[1;32m      1\u001b[0m \u001b[1;31m#samp_acq_controller.demod_freq_0()\u001b[0m\u001b[1;33m\u001b[0m\u001b[1;33m\u001b[0m\u001b[0m\n\u001b[1;32m      2\u001b[0m \u001b[0msamp_acq_controller\u001b[0m\u001b[1;33m.\u001b[0m\u001b[0mint_delay\u001b[0m\u001b[1;33m(\u001b[0m\u001b[1;36m0\u001b[0m\u001b[1;33m)\u001b[0m\u001b[1;33m\u001b[0m\u001b[0m\n\u001b[0;32m----> 3\u001b[0;31m \u001b[0mm\u001b[0m \u001b[1;33m=\u001b[0m \u001b[0msamp_acq_controller\u001b[0m\u001b[1;33m.\u001b[0m\u001b[0mget_max_total_sample_time\u001b[0m\u001b[1;33m(\u001b[0m\u001b[1;33m)\u001b[0m\u001b[1;33m\u001b[0m\u001b[0m\n\u001b[0m\u001b[1;32m      4\u001b[0m \u001b[0msamp_acq_controller\u001b[0m\u001b[1;33m.\u001b[0m\u001b[0mint_time\u001b[0m\u001b[1;33m(\u001b[0m\u001b[0mm\u001b[0m\u001b[1;33m)\u001b[0m\u001b[1;33m\u001b[0m\u001b[0m\n",
      "\u001b[0;32ma:\\qcodes\\qcodes\\utils\\helpers.py\u001b[0m in \u001b[0;36m__getattr__\u001b[0;34m(self, key)\u001b[0m\n\u001b[1;32m    321\u001b[0m         raise AttributeError(\n\u001b[1;32m    322\u001b[0m             \"'{}' object and its delegates have no attribute '{}'\".format(\n\u001b[0;32m--> 323\u001b[0;31m                 self.__class__.__name__, key))\n\u001b[0m\u001b[1;32m    324\u001b[0m \u001b[1;33m\u001b[0m\u001b[0m\n\u001b[1;32m    325\u001b[0m     \u001b[1;32mdef\u001b[0m \u001b[0m__dir__\u001b[0m\u001b[1;33m(\u001b[0m\u001b[0mself\u001b[0m\u001b[1;33m)\u001b[0m\u001b[1;33m:\u001b[0m\u001b[1;33m\u001b[0m\u001b[0m\n",
      "\u001b[0;31mAttributeError\u001b[0m: 'HD_Samples_Controller' object and its delegates have no attribute 'get_max_total_sample_time'"
     ]
    }
   ],
   "source": [
    "#samp_acq_controller.demod_freq_0()\n",
    "samp_acq_controller.int_delay(0)\n",
    "m = samp_acq_controller.get_max_total_sample_time()\n",
    "samp_acq_controller.int_time(m)"
   ]
  },
  {
   "cell_type": "code",
   "execution_count": 39,
   "metadata": {
    "collapsed": false
   },
   "outputs": [],
   "source": [
    "data3 = samp_acq_controller.acquisition()\n",
    "plot = qc.QtPlot(data3[0])"
   ]
  },
  {
   "cell_type": "code",
   "execution_count": 36,
   "metadata": {
    "collapsed": false
   },
   "outputs": [
    {
     "data": {
      "text/plain": [
       "{'allocated_buffers': 1,\n",
       " 'buffers_per_acquisition': 1,\n",
       " 'records_per_buffer': 1,\n",
       " 'samples_per_record': 4032}"
      ]
     },
     "execution_count": 36,
     "metadata": {},
     "output_type": "execute_result"
    }
   ],
   "source": [
    "samp_acq_controller.acquisition.acquisition_kwargs"
   ]
  },
  {
   "cell_type": "code",
   "execution_count": 24,
   "metadata": {
    "collapsed": false
   },
   "outputs": [
    {
     "name": "stdout",
     "output_type": "stream",
     "text": [
      "DataSet:\n",
      "   mode     = DataMode.LOCAL\n",
      "   location = '2017-01-19/16-59-31'\n",
      "   <Type>   | <array_id>                    | <array.name> | <array.shape>\n",
      "   Measured | index1                        | index1       | (4, 2500)\n",
      "   Measured | samp_acq_controller_magnitude | magnitude    | (4, 2500)\n",
      "   Measured | samp_acq_controller_phase     | phase        | (4, 2500)\n",
      "acquired at 2017-01-19 16:59:32\n"
     ]
    }
   ],
   "source": [
    "data4 = qc.Measure(samp_acq_controller.acquisition).run()"
   ]
  },
  {
   "cell_type": "code",
   "execution_count": null,
   "metadata": {
    "collapsed": true
   },
   "outputs": [],
   "source": [
    "data4."
   ]
  },
  {
   "cell_type": "code",
   "execution_count": 25,
   "metadata": {
    "collapsed": false
   },
   "outputs": [
    {
     "data": {
      "image/png": "[encoded data removed]",
      "text/plain": [
       "<qcodes.plots.pyqtgraph.QtPlot at 0xa182208>"
      ]
     },
     "execution_count": 25,
     "metadata": {},
     "output_type": "execute_result"
    }
   ],
   "source": [
    "qc.QtPlot(data4.samp_acq_controller_magnitude)"
   ]
  },
  {
   "cell_type": "code",
   "execution_count": 8,
   "metadata": {
    "collapsed": false
   },
   "outputs": [],
   "source": [
    "class Door():\n",
    "    def __init__(self, name, get_method):\n",
    "        self.name = name\n",
    "        setattr(self, 'get', partial(get_method, self))\n",
    "        \n",
    "class Car():\n",
    "    make = \"good\"\n",
    "    def __init__(self, name):\n",
    "        self.name = name\n",
    "        self.door = Door('door', self.door_set_method)\n",
    "        \n",
    "    def door_set_method(car, door):\n",
    "        print(car.name)\n",
    "        print(door.name)"
   ]
  },
  {
   "cell_type": "code",
   "execution_count": 46,
   "metadata": {
    "collapsed": false
   },
   "outputs": [],
   "source": [
    "c = Car('car')"
   ]
  },
  {
   "cell_type": "code",
   "execution_count": 9,
   "metadata": {
    "collapsed": false
   },
   "outputs": [
    {
     "data": {
      "text/plain": [
       "'good'"
      ]
     },
     "execution_count": 9,
     "metadata": {},
     "output_type": "execute_result"
    }
   ],
   "source": [
    "Car.make"
   ]
  },
  {
   "cell_type": "code",
   "execution_count": 15,
   "metadata": {
    "collapsed": false,
    "scrolled": false
   },
   "outputs": [
    {
     "data": {
      "image/png": "[encoded data removed]",
      "text/plain": [
       "<qcodes.plots.pyqtgraph.QtPlot at 0xa9e5780>"
      ]
     },
     "execution_count": 15,
     "metadata": {},
     "output_type": "execute_result"
    }
   ],
   "source": [
    "qc.QtPlot(x=data4.samp_acq_controller_int_time[0], y=data4.samp_acq_controller_magnitude[0])"
   ]
  },
  {
   "cell_type": "code",
   "execution_count": 20,
   "metadata": {
    "collapsed": false
   },
   "outputs": [
    {
     "ename": "ValueError",
     "evalue": "nth setpoint array should have shape matching the first n dimensions of shape.",
     "output_type": "error",
     "traceback": [
      "\u001b[0;31m---------------------------------------------------------------------------\u001b[0m",
      "\u001b[0;31mValueError\u001b[0m                                Traceback (most recent call last)",
      "\u001b[0;32m<ipython-input-20-96cd3b97f48a>\u001b[0m in \u001b[0;36m<module>\u001b[0;34m()\u001b[0m\n\u001b[1;32m      1\u001b[0m \u001b[0mdummy\u001b[0m \u001b[1;33m=\u001b[0m \u001b[0mparameter\u001b[0m\u001b[1;33m.\u001b[0m\u001b[0mManualParameter\u001b[0m\u001b[1;33m(\u001b[0m\u001b[0mname\u001b[0m\u001b[1;33m=\u001b[0m\u001b[1;34m\"dummy\"\u001b[0m\u001b[1;33m)\u001b[0m\u001b[1;33m\u001b[0m\u001b[0m\n\u001b[1;32m      2\u001b[0m data4 = qc.Loop(dummy[0:5:1]).each(\n\u001b[0;32m----> 3\u001b[0;31m     samp_acq_controller.acquisition).run(name='AlazarTest')\n\u001b[0m",
      "\u001b[0;32ma:\\qcodes\\qcodes\\loops.py\u001b[0m in \u001b[0;36mrun\u001b[0;34m(self, background, use_threads, quiet, data_manager, station, progress_interval, *args, **kwargs)\u001b[0m\n\u001b[1;32m    799\u001b[0m             \u001b[0mprev_loop\u001b[0m\u001b[1;33m.\u001b[0m\u001b[0mjoin\u001b[0m\u001b[1;33m(\u001b[0m\u001b[1;33m)\u001b[0m\u001b[1;33m\u001b[0m\u001b[0m\n\u001b[1;32m    800\u001b[0m \u001b[1;33m\u001b[0m\u001b[0m\n\u001b[0;32m--> 801\u001b[0;31m         \u001b[0mdata_set\u001b[0m \u001b[1;33m=\u001b[0m \u001b[0mself\u001b[0m\u001b[1;33m.\u001b[0m\u001b[0mget_data_set\u001b[0m\u001b[1;33m(\u001b[0m\u001b[0mdata_manager\u001b[0m\u001b[1;33m,\u001b[0m \u001b[1;33m*\u001b[0m\u001b[0margs\u001b[0m\u001b[1;33m,\u001b[0m \u001b[1;33m**\u001b[0m\u001b[0mkwargs\u001b[0m\u001b[1;33m)\u001b[0m\u001b[1;33m\u001b[0m\u001b[0m\n\u001b[0m\u001b[1;32m    802\u001b[0m \u001b[1;33m\u001b[0m\u001b[0m\n\u001b[1;32m    803\u001b[0m         \u001b[1;32mif\u001b[0m \u001b[0mbackground\u001b[0m \u001b[1;32mand\u001b[0m \u001b[1;32mnot\u001b[0m \u001b[0mgetattr\u001b[0m\u001b[1;33m(\u001b[0m\u001b[0mdata_set\u001b[0m\u001b[1;33m,\u001b[0m \u001b[1;34m'data_manager'\u001b[0m\u001b[1;33m,\u001b[0m \u001b[1;32mNone\u001b[0m\u001b[1;33m)\u001b[0m\u001b[1;33m:\u001b[0m\u001b[1;33m\u001b[0m\u001b[0m\n",
      "\u001b[0;32ma:\\qcodes\\qcodes\\loops.py\u001b[0m in \u001b[0;36mget_data_set\u001b[0;34m(self, data_manager, *args, **kwargs)\u001b[0m\n\u001b[1;32m    721\u001b[0m \u001b[1;33m\u001b[0m\u001b[0m\n\u001b[1;32m    722\u001b[0m             data_set = new_data(arrays=self.containers(), mode=data_mode,\n\u001b[0;32m--> 723\u001b[0;31m                                 data_manager=data_manager, *args, **kwargs)\n\u001b[0m\u001b[1;32m    724\u001b[0m \u001b[1;33m\u001b[0m\u001b[0m\n\u001b[1;32m    725\u001b[0m             \u001b[0mself\u001b[0m\u001b[1;33m.\u001b[0m\u001b[0mdata_set\u001b[0m \u001b[1;33m=\u001b[0m \u001b[0mdata_set\u001b[0m\u001b[1;33m\u001b[0m\u001b[0m\n",
      "\u001b[0;32ma:\\qcodes\\qcodes\\loops.py\u001b[0m in \u001b[0;36mcontainers\u001b[0;34m(self)\u001b[0m\n\u001b[1;32m    521\u001b[0m                 \u001b[1;31m# note that this supports lists (separate output arrays)\u001b[0m\u001b[1;33m\u001b[0m\u001b[1;33m\u001b[0m\u001b[0m\n\u001b[1;32m    522\u001b[0m                 \u001b[1;31m# and arrays (nested in one/each output array) of return values\u001b[0m\u001b[1;33m\u001b[0m\u001b[1;33m\u001b[0m\u001b[0m\n\u001b[0;32m--> 523\u001b[0;31m                 \u001b[0maction_arrays\u001b[0m \u001b[1;33m=\u001b[0m \u001b[0mself\u001b[0m\u001b[1;33m.\u001b[0m\u001b[0m_parameter_arrays\u001b[0m\u001b[1;33m(\u001b[0m\u001b[0maction\u001b[0m\u001b[1;33m)\u001b[0m\u001b[1;33m\u001b[0m\u001b[0m\n\u001b[0m\u001b[1;32m    524\u001b[0m \u001b[1;33m\u001b[0m\u001b[0m\n\u001b[1;32m    525\u001b[0m             \u001b[1;32melse\u001b[0m\u001b[1;33m:\u001b[0m\u001b[1;33m\u001b[0m\u001b[0m\n",
      "\u001b[0;32ma:\\qcodes\\qcodes\\loops.py\u001b[0m in \u001b[0;36m_parameter_arrays\u001b[0;34m(self, action)\u001b[0m\n\u001b[1;32m    595\u001b[0m                 \u001b[0msp_def\u001b[0m \u001b[1;33m=\u001b[0m \u001b[1;33m(\u001b[0m\u001b[0mshape\u001b[0m\u001b[1;33m[\u001b[0m\u001b[1;33m:\u001b[0m \u001b[1;36m1\u001b[0m \u001b[1;33m+\u001b[0m \u001b[0mj\u001b[0m\u001b[1;33m]\u001b[0m\u001b[1;33m,\u001b[0m \u001b[0mj\u001b[0m\u001b[1;33m,\u001b[0m \u001b[0msetpoints\u001b[0m\u001b[1;33m,\u001b[0m \u001b[0mvij\u001b[0m\u001b[1;33m,\u001b[0m \u001b[0mnij\u001b[0m\u001b[1;33m,\u001b[0m \u001b[0mlij\u001b[0m\u001b[1;33m)\u001b[0m\u001b[1;33m\u001b[0m\u001b[0m\n\u001b[1;32m    596\u001b[0m                 \u001b[1;32mif\u001b[0m \u001b[0msp_def\u001b[0m \u001b[1;32mnot\u001b[0m \u001b[1;32min\u001b[0m \u001b[0mall_setpoints\u001b[0m\u001b[1;33m:\u001b[0m\u001b[1;33m\u001b[0m\u001b[0m\n\u001b[0;32m--> 597\u001b[0;31m                     \u001b[0mall_setpoints\u001b[0m\u001b[1;33m[\u001b[0m\u001b[0msp_def\u001b[0m\u001b[1;33m]\u001b[0m \u001b[1;33m=\u001b[0m \u001b[0mself\u001b[0m\u001b[1;33m.\u001b[0m\u001b[0m_make_setpoint_array\u001b[0m\u001b[1;33m(\u001b[0m\u001b[1;33m*\u001b[0m\u001b[0msp_def\u001b[0m\u001b[1;33m)\u001b[0m\u001b[1;33m\u001b[0m\u001b[0m\n\u001b[0m\u001b[1;32m    598\u001b[0m                     \u001b[0mout\u001b[0m\u001b[1;33m.\u001b[0m\u001b[0mappend\u001b[0m\u001b[1;33m(\u001b[0m\u001b[0mall_setpoints\u001b[0m\u001b[1;33m[\u001b[0m\u001b[0msp_def\u001b[0m\u001b[1;33m]\u001b[0m\u001b[1;33m)\u001b[0m\u001b[1;33m\u001b[0m\u001b[0m\n\u001b[1;32m    599\u001b[0m                 \u001b[0msetpoints\u001b[0m \u001b[1;33m=\u001b[0m \u001b[0msetpoints\u001b[0m \u001b[1;33m+\u001b[0m \u001b[1;33m(\u001b[0m\u001b[0mall_setpoints\u001b[0m\u001b[1;33m[\u001b[0m\u001b[0msp_def\u001b[0m\u001b[1;33m]\u001b[0m\u001b[1;33m,\u001b[0m\u001b[1;33m)\u001b[0m\u001b[1;33m\u001b[0m\u001b[0m\n",
      "\u001b[0;32ma:\\qcodes\\qcodes\\loops.py\u001b[0m in \u001b[0;36m_make_setpoint_array\u001b[0;34m(self, shape, i, prev_setpoints, vals, name, label)\u001b[0m\n\u001b[1;32m    636\u001b[0m \u001b[1;33m\u001b[0m\u001b[0m\n\u001b[1;32m    637\u001b[0m         \u001b[1;32mif\u001b[0m \u001b[0mvals\u001b[0m\u001b[1;33m.\u001b[0m\u001b[0mshape\u001b[0m \u001b[1;33m!=\u001b[0m \u001b[0mshape\u001b[0m\u001b[1;33m:\u001b[0m\u001b[1;33m\u001b[0m\u001b[0m\n\u001b[0;32m--> 638\u001b[0;31m             raise ValueError('nth setpoint array should have shape matching '\n\u001b[0m\u001b[1;32m    639\u001b[0m                              'the first n dimensions of shape.')\n\u001b[1;32m    640\u001b[0m \u001b[1;33m\u001b[0m\u001b[0m\n",
      "\u001b[0;31mValueError\u001b[0m: nth setpoint array should have shape matching the first n dimensions of shape."
     ]
    }
   ],
   "source": [
    "dummy = parameter.ManualParameter(name=\"dummy\")\n",
    "data4 = qc.Loop(dummy[0:5:1]).each(\n",
    "    samp_acq_controller.acquisition).run(name='AlazarTest')"
   ]
  },
  {
   "cell_type": "code",
   "execution_count": null,
   "metadata": {
    "collapsed": true
   },
   "outputs": [],
   "source": [
    "dummy = parameter.ManualParameter(name=\"dummy\")\n",
    "data4 = qc.Loop(samp_acq_controller.demod_freq_0.sweep(9e6, 10e6, 1e6)).each(\n",
    "    samp_acq_controller.acquisition).run(name='AlazarTest')"
   ]
  },
  {
   "cell_type": "code",
   "execution_count": 23,
   "metadata": {
    "collapsed": false
   },
   "outputs": [
    {
     "ename": "NameError",
     "evalue": "name 'data4' is not defined",
     "output_type": "error",
     "traceback": [
      "\u001b[1;31m---------------------------------------------------------------------------\u001b[0m",
      "\u001b[1;31mNameError\u001b[0m                                 Traceback (most recent call last)",
      "\u001b[1;32m<ipython-input-23-4a6a80ad3893>\u001b[0m in \u001b[0;36m<module>\u001b[1;34m()\u001b[0m\n\u001b[1;32m----> 1\u001b[1;33m \u001b[0mqc\u001b[0m\u001b[1;33m.\u001b[0m\u001b[0mQtPlot\u001b[0m\u001b[1;33m(\u001b[0m\u001b[0mdata4\u001b[0m\u001b[1;33m.\u001b[0m\u001b[0msamples_controller_magnitude\u001b[0m\u001b[1;33m)\u001b[0m\u001b[1;33m\u001b[0m\u001b[0m\n\u001b[0m",
      "\u001b[1;31mNameError\u001b[0m: name 'data4' is not defined"
     ]
    }
   ],
   "source": [
    "qc.QtPlot(data4.samples_controller_magnitude)"
   ]
  },
  {
   "cell_type": "code",
   "execution_count": 24,
   "metadata": {
    "collapsed": false
   },
   "outputs": [
    {
     "name": "stderr",
     "output_type": "stream",
     "text": [
      "a:\\qcodes\\qcodes\\instrument\\metaclass.py:37: UserWarning: Multiprocessing is in beta, use at own risk\n",
      "  UserWarning)\n"
     ]
    }
   ],
   "source": [
    "import qcodes.instrument_drivers.AlazarTech.ave_controller as single_controller\n",
    "\n",
    "sing_contr = single_controller.HD_Controller(name='single_controller', \n",
    "                                             alazar_name='Alazar1', \n",
    "                                             demod_freq = 5e6,\n",
    "                                             server_name=\"alazar_server\")"
   ]
  },
  {
   "cell_type": "code",
   "execution_count": 25,
   "metadata": {
    "collapsed": true
   },
   "outputs": [],
   "source": [
    "# This command is specific to this acquisition controller. The kwargs provided here are being forwarded to ats_inst.acquire\n",
    "# This way, it becomes easy to change acquisition specific settings from the ipython notebook\n",
    "sing_contr.update_acquisitionkwargs(#mode='NPT',\n",
    "                 samples_per_record=2560,\n",
    "                 records_per_buffer=1,\n",
    "                 buffers_per_acquisition=1,\n",
    "                 allocated_buffers=1,\n",
    ")"
   ]
  },
  {
   "cell_type": "code",
   "execution_count": 30,
   "metadata": {
    "collapsed": true
   },
   "outputs": [
    {
     "name": "stdout",
     "output_type": "stream",
     "text": [
      "DataSet:\n",
      "   mode     = DataMode.LOCAL\n",
      "   location = '2016-11-08/10-27-15_AlazarTest'\n",
      "   <Type>   | <array_id>                  | <array.name> | <array.shape>\n",
      "   Setpoint | dummy_set                   | dummy        | (5,)\n",
      "   Measured | single_controller_magnitude | magnitude    | (5,)\n",
      "   Measured | single_controller_phase     | phase        | (5,)\n",
      "started at 2016-11-08 10:27:17\n"
     ]
    }
   ],
   "source": [
    "dummy = parameter.ManualParameter(name=\"dummy\")\n",
    "data6 = qc.Loop(dummy[0:5:1]).each(\n",
    "    sing_contr.acquisition).run(name='AlazarTest')"
   ]
  },
  {
   "cell_type": "code",
   "execution_count": 13,
   "metadata": {
    "collapsed": false
   },
   "outputs": [
    {
     "data": {
      "text/plain": [
       "<qcodes.plots.pyqtgraph.QtPlot at 0x9e9ffd0>"
      ]
     },
     "execution_count": 13,
     "metadata": {},
     "output_type": "execute_result"
    }
   ],
   "source": [
    "qc.QtPlot(data6.single_controller_phase)"
   ]
  },
  {
   "cell_type": "code",
   "execution_count": null,
   "metadata": {
    "collapsed": true
   },
   "outputs": [],
   "source": [
    "# Configure settings on Alazar card for sequencing mode (ie use aux i/o for triggering as well)\n",
    "ats_inst.config(clock_source='EXTERNAL_CLOCK_10MHz_REF',\n",
    "                sample_rate='10MHZ_REF_500MSPS',\n",
    "                clock_edge='CLOCK_EDGE_RISING',\n",
    "                decimation=1,\n",
    "                coupling=['DC','DC'],\n",
    "                channel_range=[.4,.4],\n",
    "                impedance=[50,50],\n",
    "                trigger_operation='TRIG_ENGINE_OP_J',\n",
    "                trigger_engine1='TRIG_ENGINE_J',\n",
    "                trigger_source1='EXTERNAL',\n",
    "                trigger_slope1='TRIG_SLOPE_POSITIVE',\n",
    "                trigger_level1=140,\n",
    "                trigger_engine2='TRIG_ENGINE_K',\n",
    "                trigger_source2='DISABLE',\n",
    "                trigger_slope2='TRIG_SLOPE_POSITIVE',\n",
    "                trigger_level2=128,\n",
    "                external_trigger_coupling='DC',\n",
    "                external_trigger_range='ETR_2V5',\n",
    "                trigger_delay=0,\n",
    "                timeout_ticks=0,\n",
    "                aux_io_mode='AUX_IN_TRIGGER_ENABLE', \n",
    "                aux_io_param='TRIG_SLOPE_POSITIVE'\n",
    ")"
   ]
  },
  {
   "cell_type": "code",
   "execution_count": 11,
   "metadata": {
    "collapsed": false
   },
   "outputs": [
    {
     "name": "stderr",
     "output_type": "stream",
     "text": [
      "a:\\qcodes\\qcodes\\instrument\\metaclass.py:37: UserWarning: Multiprocessing is in beta, use at own risk\n",
      "  UserWarning)\n"
     ]
    }
   ],
   "source": [
    "import qcodes.instrument_drivers.AlazarTech.rec_controller as record_controller\n",
    "\n",
    "rec_contr = record_controller.HD_Records_Controller(name='rec_controller', \n",
    "                                                      alazar_name='Alazar1', \n",
    "                                                      demod_freq = 5e6,\n",
    "                                                      server_name=\"alazar_server\")"
   ]
  },
  {
   "cell_type": "code",
   "execution_count": 12,
   "metadata": {
    "collapsed": true
   },
   "outputs": [],
   "source": [
    "# This command is specific to this acquisition controller. The kwargs provided here are being forwarded to ats_inst.acquire\n",
    "# This way, it becomes easy to change acquisition specific settings from the ipython notebook\n",
    "rec_contr.update_acquisitionkwargs(#mode='NPT',\n",
    "                 samples_per_record=1024,\n",
    "                 records_per_buffer=20,\n",
    "                 buffers_per_acquisition=1,\n",
    "                 allocated_buffers=1,\n",
    ")"
   ]
  },
  {
   "cell_type": "code",
   "execution_count": 15,
   "metadata": {
    "collapsed": false
   },
   "outputs": [
    {
     "data": {
      "application/javascript": [
       "/* Put everything inside the global mpl namespace */\n",
       "window.mpl = {};\n",
       "\n",
       "mpl.get_websocket_type = function() {\n",
       "    if (typeof(WebSocket) !== 'undefined') {\n",
       "        return WebSocket;\n",
       "    } else if (typeof(MozWebSocket) !== 'undefined') {\n",
       "        return MozWebSocket;\n",
       "    } else {\n",
       "        alert('Your browser does not have WebSocket support.' +\n",
       "              'Please try Chrome, Safari or Firefox ≥ 6. ' +\n",
       "              'Firefox 4 and 5 are also supported but you ' +\n",
       "              'have to enable WebSockets in about:config.');\n",
       "    };\n",
       "}\n",
       "\n",
       "mpl.figure = function(figure_id, websocket, ondownload, parent_element) {\n",
       "    this.id = figure_id;\n",
       "\n",
       "    this.ws = websocket;\n",
       "\n",
       "    this.supports_binary = (this.ws.binaryType != undefined);\n",
       "\n",
       "    if (!this.supports_binary) {\n",
       "        var warnings = document.getElementById(\"mpl-warnings\");\n",
       "        if (warnings) {\n",
       "            warnings.style.display = 'block';\n",
       "            warnings.textContent = (\n",
       "                \"This browser does not support binary websocket messages. \" +\n",
       "                    \"Performance may be slow.\");\n",
       "        }\n",
       "    }\n",
       "\n",
       "    this.imageObj = new Image();\n",
       "\n",
       "    this.context = undefined;\n",
       "    this.message = undefined;\n",
       "    this.canvas = undefined;\n",
       "    this.rubberband_canvas = undefined;\n",
       "    this.rubberband_context = undefined;\n",
       "    this.format_dropdown = undefined;\n",
       "\n",
       "    this.image_mode = 'full';\n",
       "\n",
       "    this.root = $('<div/>');\n",
       "    this._root_extra_style(this.root)\n",
       "    this.root.attr('style', 'display: inline-block');\n",
       "\n",
       "    $(parent_element).append(this.root);\n",
       "\n",
       "    this._init_header(this);\n",
       "    this._init_canvas(this);\n",
       "    this._init_toolbar(this);\n",
       "\n",
       "    var fig = this;\n",
       "\n",
       "    this.waiting = false;\n",
       "\n",
       "    this.ws.onopen =  function () {\n",
       "            fig.send_message(\"supports_binary\", {value: fig.supports_binary});\n",
       "            fig.send_message(\"send_image_mode\", {});\n",
       "            fig.send_message(\"refresh\", {});\n",
       "        }\n",
       "\n",
       "    this.imageObj.onload = function() {\n",
       "            if (fig.image_mode == 'full') {\n",
       "                // Full images could contain transparency (where diff images\n",
       "                // almost always do), so we need to clear the canvas so that\n",
       "                // there is no ghosting.\n",
       "                fig.context.clearRect(0, 0, fig.canvas.width, fig.canvas.height);\n",
       "            }\n",
       "            fig.context.drawImage(fig.imageObj, 0, 0);\n",
       "        };\n",
       "\n",
       "    this.imageObj.onunload = function() {\n",
       "        this.ws.close();\n",
       "    }\n",
       "\n",
       "    this.ws.onmessage = this._make_on_message_function(this);\n",
       "\n",
       "    this.ondownload = ondownload;\n",
       "}\n",
       "\n",
       "mpl.figure.prototype._init_header = function() {\n",
       "    var titlebar = $(\n",
       "        '<div class=\"ui-dialog-titlebar ui-widget-header ui-corner-all ' +\n",
       "        'ui-helper-clearfix\"/>');\n",
       "    var titletext = $(\n",
       "        '<div class=\"ui-dialog-title\" style=\"width: 100%; ' +\n",
       "        'text-align: center; padding: 3px;\"/>');\n",
       "    titlebar.append(titletext)\n",
       "    this.root.append(titlebar);\n",
       "    this.header = titletext[0];\n",
       "}\n",
       "\n",
       "\n",
       "\n",
       "mpl.figure.prototype._canvas_extra_style = function(canvas_div) {\n",
       "\n",
       "}\n",
       "\n",
       "\n",
       "mpl.figure.prototype._root_extra_style = function(canvas_div) {\n",
       "\n",
       "}\n",
       "\n",
       "mpl.figure.prototype._init_canvas = function() {\n",
       "    var fig = this;\n",
       "\n",
       "    var canvas_div = $('<div/>');\n",
       "\n",
       "    canvas_div.attr('style', 'position: relative; clear: both; outline: 0');\n",
       "\n",
       "    function canvas_keyboard_event(event) {\n",
       "        return fig.key_event(event, event['data']);\n",
       "    }\n",
       "\n",
       "    canvas_div.keydown('key_press', canvas_keyboard_event);\n",
       "    canvas_div.keyup('key_release', canvas_keyboard_event);\n",
       "    this.canvas_div = canvas_div\n",
       "    this._canvas_extra_style(canvas_div)\n",
       "    this.root.append(canvas_div);\n",
       "\n",
       "    var canvas = $('<canvas/>');\n",
       "    canvas.addClass('mpl-canvas');\n",
       "    canvas.attr('style', \"left: 0; top: 0; z-index: 0; outline: 0\")\n",
       "\n",
       "    this.canvas = canvas[0];\n",
       "    this.context = canvas[0].getContext(\"2d\");\n",
       "\n",
       "    var rubberband = $('<canvas/>');\n",
       "    rubberband.attr('style', \"position: absolute; left: 0; top: 0; z-index: 1;\")\n",
       "\n",
       "    var pass_mouse_events = true;\n",
       "\n",
       "    canvas_div.resizable({\n",
       "        start: function(event, ui) {\n",
       "            pass_mouse_events = false;\n",
       "        },\n",
       "        resize: function(event, ui) {\n",
       "            fig.request_resize(ui.size.width, ui.size.height);\n",
       "        },\n",
       "        stop: function(event, ui) {\n",
       "            pass_mouse_events = true;\n",
       "            fig.request_resize(ui.size.width, ui.size.height);\n",
       "        },\n",
       "    });\n",
       "\n",
       "    function mouse_event_fn(event) {\n",
       "        if (pass_mouse_events)\n",
       "            return fig.mouse_event(event, event['data']);\n",
       "    }\n",
       "\n",
       "    rubberband.mousedown('button_press', mouse_event_fn);\n",
       "    rubberband.mouseup('button_release', mouse_event_fn);\n",
       "    // Throttle sequential mouse events to 1 every 20ms.\n",
       "    rubberband.mousemove('motion_notify', mouse_event_fn);\n",
       "\n",
       "    rubberband.mouseenter('figure_enter', mouse_event_fn);\n",
       "    rubberband.mouseleave('figure_leave', mouse_event_fn);\n",
       "\n",
       "    canvas_div.on(\"wheel\", function (event) {\n",
       "        event = event.originalEvent;\n",
       "        event['data'] = 'scroll'\n",
       "        if (event.deltaY < 0) {\n",
       "            event.step = 1;\n",
       "        } else {\n",
       "            event.step = -1;\n",
       "        }\n",
       "        mouse_event_fn(event);\n",
       "    });\n",
       "\n",
       "    canvas_div.append(canvas);\n",
       "    canvas_div.append(rubberband);\n",
       "\n",
       "    this.rubberband = rubberband;\n",
       "    this.rubberband_canvas = rubberband[0];\n",
       "    this.rubberband_context = rubberband[0].getContext(\"2d\");\n",
       "    this.rubberband_context.strokeStyle = \"#000000\";\n",
       "\n",
       "    this._resize_canvas = function(width, height) {\n",
       "        // Keep the size of the canvas, canvas container, and rubber band\n",
       "        // canvas in synch.\n",
       "        canvas_div.css('width', width)\n",
       "        canvas_div.css('height', height)\n",
       "\n",
       "        canvas.attr('width', width);\n",
       "        canvas.attr('height', height);\n",
       "\n",
       "        rubberband.attr('width', width);\n",
       "        rubberband.attr('height', height);\n",
       "    }\n",
       "\n",
       "    // Set the figure to an initial 600x600px, this will subsequently be updated\n",
       "    // upon first draw.\n",
       "    this._resize_canvas(600, 600);\n",
       "\n",
       "    // Disable right mouse context menu.\n",
       "    $(this.rubberband_canvas).bind(\"contextmenu\",function(e){\n",
       "        return false;\n",
       "    });\n",
       "\n",
       "    function set_focus () {\n",
       "        canvas.focus();\n",
       "        canvas_div.focus();\n",
       "    }\n",
       "\n",
       "    window.setTimeout(set_focus, 100);\n",
       "}\n",
       "\n",
       "mpl.figure.prototype._init_toolbar = function() {\n",
       "    var fig = this;\n",
       "\n",
       "    var nav_element = $('<div/>')\n",
       "    nav_element.attr('style', 'width: 100%');\n",
       "    this.root.append(nav_element);\n",
       "\n",
       "    // Define a callback function for later on.\n",
       "    function toolbar_event(event) {\n",
       "        return fig.toolbar_button_onclick(event['data']);\n",
       "    }\n",
       "    function toolbar_mouse_event(event) {\n",
       "        return fig.toolbar_button_onmouseover(event['data']);\n",
       "    }\n",
       "\n",
       "    for(var toolbar_ind in mpl.toolbar_items) {\n",
       "        var name = mpl.toolbar_items[toolbar_ind][0];\n",
       "        var tooltip = mpl.toolbar_items[toolbar_ind][1];\n",
       "        var image = mpl.toolbar_items[toolbar_ind][2];\n",
       "        var method_name = mpl.toolbar_items[toolbar_ind][3];\n",
       "\n",
       "        if (!name) {\n",
       "            // put a spacer in here.\n",
       "            continue;\n",
       "        }\n",
       "        var button = $('<button/>');\n",
       "        button.addClass('ui-button ui-widget ui-state-default ui-corner-all ' +\n",
       "                        'ui-button-icon-only');\n",
       "        button.attr('role', 'button');\n",
       "        button.attr('aria-disabled', 'false');\n",
       "        button.click(method_name, toolbar_event);\n",
       "        button.mouseover(tooltip, toolbar_mouse_event);\n",
       "\n",
       "        var icon_img = $('<span/>');\n",
       "        icon_img.addClass('ui-button-icon-primary ui-icon');\n",
       "        icon_img.addClass(image);\n",
       "        icon_img.addClass('ui-corner-all');\n",
       "\n",
       "        var tooltip_span = $('<span/>');\n",
       "        tooltip_span.addClass('ui-button-text');\n",
       "        tooltip_span.html(tooltip);\n",
       "\n",
       "        button.append(icon_img);\n",
       "        button.append(tooltip_span);\n",
       "\n",
       "        nav_element.append(button);\n",
       "    }\n",
       "\n",
       "    var fmt_picker_span = $('<span/>');\n",
       "\n",
       "    var fmt_picker = $('<select/>');\n",
       "    fmt_picker.addClass('mpl-toolbar-option ui-widget ui-widget-content');\n",
       "    fmt_picker_span.append(fmt_picker);\n",
       "    nav_element.append(fmt_picker_span);\n",
       "    this.format_dropdown = fmt_picker[0];\n",
       "\n",
       "    for (var ind in mpl.extensions) {\n",
       "        var fmt = mpl.extensions[ind];\n",
       "        var option = $(\n",
       "            '<option/>', {selected: fmt === mpl.default_extension}).html(fmt);\n",
       "        fmt_picker.append(option)\n",
       "    }\n",
       "\n",
       "    // Add hover states to the ui-buttons\n",
       "    $( \".ui-button\" ).hover(\n",
       "        function() { $(this).addClass(\"ui-state-hover\");},\n",
       "        function() { $(this).removeClass(\"ui-state-hover\");}\n",
       "    );\n",
       "\n",
       "    var status_bar = $('<span class=\"mpl-message\"/>');\n",
       "    nav_element.append(status_bar);\n",
       "    this.message = status_bar[0];\n",
       "}\n",
       "\n",
       "mpl.figure.prototype.request_resize = function(x_pixels, y_pixels) {\n",
       "    // Request matplotlib to resize the figure. Matplotlib will then trigger a resize in the client,\n",
       "    // which will in turn request a refresh of the image.\n",
       "    this.send_message('resize', {'width': x_pixels, 'height': y_pixels});\n",
       "}\n",
       "\n",
       "mpl.figure.prototype.send_message = function(type, properties) {\n",
       "    properties['type'] = type;\n",
       "    properties['figure_id'] = this.id;\n",
       "    this.ws.send(JSON.stringify(properties));\n",
       "}\n",
       "\n",
       "mpl.figure.prototype.send_draw_message = function() {\n",
       "    if (!this.waiting) {\n",
       "        this.waiting = true;\n",
       "        this.ws.send(JSON.stringify({type: \"draw\", figure_id: this.id}));\n",
       "    }\n",
       "}\n",
       "\n",
       "\n",
       "mpl.figure.prototype.handle_save = function(fig, msg) {\n",
       "    var format_dropdown = fig.format_dropdown;\n",
       "    var format = format_dropdown.options[format_dropdown.selectedIndex].value;\n",
       "    fig.ondownload(fig, format);\n",
       "}\n",
       "\n",
       "\n",
       "mpl.figure.prototype.handle_resize = function(fig, msg) {\n",
       "    var size = msg['size'];\n",
       "    if (size[0] != fig.canvas.width || size[1] != fig.canvas.height) {\n",
       "        fig._resize_canvas(size[0], size[1]);\n",
       "        fig.send_message(\"refresh\", {});\n",
       "    };\n",
       "}\n",
       "\n",
       "mpl.figure.prototype.handle_rubberband = function(fig, msg) {\n",
       "    var x0 = msg['x0'];\n",
       "    var y0 = fig.canvas.height - msg['y0'];\n",
       "    var x1 = msg['x1'];\n",
       "    var y1 = fig.canvas.height - msg['y1'];\n",
       "    x0 = Math.floor(x0) + 0.5;\n",
       "    y0 = Math.floor(y0) + 0.5;\n",
       "    x1 = Math.floor(x1) + 0.5;\n",
       "    y1 = Math.floor(y1) + 0.5;\n",
       "    var min_x = Math.min(x0, x1);\n",
       "    var min_y = Math.min(y0, y1);\n",
       "    var width = Math.abs(x1 - x0);\n",
       "    var height = Math.abs(y1 - y0);\n",
       "\n",
       "    fig.rubberband_context.clearRect(\n",
       "        0, 0, fig.canvas.width, fig.canvas.height);\n",
       "\n",
       "    fig.rubberband_context.strokeRect(min_x, min_y, width, height);\n",
       "}\n",
       "\n",
       "mpl.figure.prototype.handle_figure_label = function(fig, msg) {\n",
       "    // Updates the figure title.\n",
       "    fig.header.textContent = msg['label'];\n",
       "}\n",
       "\n",
       "mpl.figure.prototype.handle_cursor = function(fig, msg) {\n",
       "    var cursor = msg['cursor'];\n",
       "    switch(cursor)\n",
       "    {\n",
       "    case 0:\n",
       "        cursor = 'pointer';\n",
       "        break;\n",
       "    case 1:\n",
       "        cursor = 'default';\n",
       "        break;\n",
       "    case 2:\n",
       "        cursor = 'crosshair';\n",
       "        break;\n",
       "    case 3:\n",
       "        cursor = 'move';\n",
       "        break;\n",
       "    }\n",
       "    fig.rubberband_canvas.style.cursor = cursor;\n",
       "}\n",
       "\n",
       "mpl.figure.prototype.handle_message = function(fig, msg) {\n",
       "    fig.message.textContent = msg['message'];\n",
       "}\n",
       "\n",
       "mpl.figure.prototype.handle_draw = function(fig, msg) {\n",
       "    // Request the server to send over a new figure.\n",
       "    fig.send_draw_message();\n",
       "}\n",
       "\n",
       "mpl.figure.prototype.handle_image_mode = function(fig, msg) {\n",
       "    fig.image_mode = msg['mode'];\n",
       "}\n",
       "\n",
       "mpl.figure.prototype.updated_canvas_event = function() {\n",
       "    // Called whenever the canvas gets updated.\n",
       "    this.send_message(\"ack\", {});\n",
       "}\n",
       "\n",
       "// A function to construct a web socket function for onmessage handling.\n",
       "// Called in the figure constructor.\n",
       "mpl.figure.prototype._make_on_message_function = function(fig) {\n",
       "    return function socket_on_message(evt) {\n",
       "        if (evt.data instanceof Blob) {\n",
       "            /* FIXME: We get \"Resource interpreted as Image but\n",
       "             * transferred with MIME type text/plain:\" errors on\n",
       "             * Chrome.  But how to set the MIME type?  It doesn't seem\n",
       "             * to be part of the websocket stream */\n",
       "            evt.data.type = \"image/png\";\n",
       "\n",
       "            /* Free the memory for the previous frames */\n",
       "            if (fig.imageObj.src) {\n",
       "                (window.URL || window.webkitURL).revokeObjectURL(\n",
       "                    fig.imageObj.src);\n",
       "            }\n",
       "\n",
       "            fig.imageObj.src = (window.URL || window.webkitURL).createObjectURL(\n",
       "                evt.data);\n",
       "            fig.updated_canvas_event();\n",
       "            fig.waiting = false;\n",
       "            return;\n",
       "        }\n",
       "        else if (typeof evt.data === 'string' && evt.data.slice(0, 21) == \"data:image/png;base64\") {\n",
       "            fig.imageObj.src = evt.data;\n",
       "            fig.updated_canvas_event();\n",
       "            fig.waiting = false;\n",
       "            return;\n",
       "        }\n",
       "\n",
       "        var msg = JSON.parse(evt.data);\n",
       "        var msg_type = msg['type'];\n",
       "\n",
       "        // Call the  \"handle_{type}\" callback, which takes\n",
       "        // the figure and JSON message as its only arguments.\n",
       "        try {\n",
       "            var callback = fig[\"handle_\" + msg_type];\n",
       "        } catch (e) {\n",
       "            console.log(\"No handler for the '\" + msg_type + \"' message type: \", msg);\n",
       "            return;\n",
       "        }\n",
       "\n",
       "        if (callback) {\n",
       "            try {\n",
       "                // console.log(\"Handling '\" + msg_type + \"' message: \", msg);\n",
       "                callback(fig, msg);\n",
       "            } catch (e) {\n",
       "                console.log(\"Exception inside the 'handler_\" + msg_type + \"' callback:\", e, e.stack, msg);\n",
       "            }\n",
       "        }\n",
       "    };\n",
       "}\n",
       "\n",
       "// from http://stackoverflow.com/questions/1114465/getting-mouse-location-in-canvas\n",
       "mpl.findpos = function(e) {\n",
       "    //this section is from http://www.quirksmode.org/js/events_properties.html\n",
       "    var targ;\n",
       "    if (!e)\n",
       "        e = window.event;\n",
       "    if (e.target)\n",
       "        targ = e.target;\n",
       "    else if (e.srcElement)\n",
       "        targ = e.srcElement;\n",
       "    if (targ.nodeType == 3) // defeat Safari bug\n",
       "        targ = targ.parentNode;\n",
       "\n",
       "    // jQuery normalizes the pageX and pageY\n",
       "    // pageX,Y are the mouse positions relative to the document\n",
       "    // offset() returns the position of the element relative to the document\n",
       "    var x = e.pageX - $(targ).offset().left;\n",
       "    var y = e.pageY - $(targ).offset().top;\n",
       "\n",
       "    return {\"x\": x, \"y\": y};\n",
       "};\n",
       "\n",
       "/*\n",
       " * return a copy of an object with only non-object keys\n",
       " * we need this to avoid circular references\n",
       " * http://stackoverflow.com/a/24161582/3208463\n",
       " */\n",
       "function simpleKeys (original) {\n",
       "  return Object.keys(original).reduce(function (obj, key) {\n",
       "    if (typeof original[key] !== 'object')\n",
       "        obj[key] = original[key]\n",
       "    return obj;\n",
       "  }, {});\n",
       "}\n",
       "\n",
       "mpl.figure.prototype.mouse_event = function(event, name) {\n",
       "    var canvas_pos = mpl.findpos(event)\n",
       "\n",
       "    if (name === 'button_press')\n",
       "    {\n",
       "        this.canvas.focus();\n",
       "        this.canvas_div.focus();\n",
       "    }\n",
       "\n",
       "    var x = canvas_pos.x;\n",
       "    var y = canvas_pos.y;\n",
       "\n",
       "    this.send_message(name, {x: x, y: y, button: event.button,\n",
       "                             step: event.step,\n",
       "                             guiEvent: simpleKeys(event)});\n",
       "\n",
       "    /* This prevents the web browser from automatically changing to\n",
       "     * the text insertion cursor when the button is pressed.  We want\n",
       "     * to control all of the cursor setting manually through the\n",
       "     * 'cursor' event from matplotlib */\n",
       "    event.preventDefault();\n",
       "    return false;\n",
       "}\n",
       "\n",
       "mpl.figure.prototype._key_event_extra = function(event, name) {\n",
       "    // Handle any extra behaviour associated with a key event\n",
       "}\n",
       "\n",
       "mpl.figure.prototype.key_event = function(event, name) {\n",
       "\n",
       "    // Prevent repeat events\n",
       "    if (name == 'key_press')\n",
       "    {\n",
       "        if (event.which === this._key)\n",
       "            return;\n",
       "        else\n",
       "            this._key = event.which;\n",
       "    }\n",
       "    if (name == 'key_release')\n",
       "        this._key = null;\n",
       "\n",
       "    var value = '';\n",
       "    if (event.ctrlKey && event.which != 17)\n",
       "        value += \"ctrl+\";\n",
       "    if (event.altKey && event.which != 18)\n",
       "        value += \"alt+\";\n",
       "    if (event.shiftKey && event.which != 16)\n",
       "        value += \"shift+\";\n",
       "\n",
       "    value += 'k';\n",
       "    value += event.which.toString();\n",
       "\n",
       "    this._key_event_extra(event, name);\n",
       "\n",
       "    this.send_message(name, {key: value,\n",
       "                             guiEvent: simpleKeys(event)});\n",
       "    return false;\n",
       "}\n",
       "\n",
       "mpl.figure.prototype.toolbar_button_onclick = function(name) {\n",
       "    if (name == 'download') {\n",
       "        this.handle_save(this, null);\n",
       "    } else {\n",
       "        this.send_message(\"toolbar_button\", {name: name});\n",
       "    }\n",
       "};\n",
       "\n",
       "mpl.figure.prototype.toolbar_button_onmouseover = function(tooltip) {\n",
       "    this.message.textContent = tooltip;\n",
       "};\n",
       "mpl.toolbar_items = [[\"Home\", \"Reset original view\", \"fa fa-home icon-home\", \"home\"], [\"Back\", \"Back to  previous view\", \"fa fa-arrow-left icon-arrow-left\", \"back\"], [\"Forward\", \"Forward to next view\", \"fa fa-arrow-right icon-arrow-right\", \"forward\"], [\"\", \"\", \"\", \"\"], [\"Pan\", \"Pan axes with left mouse, zoom with right\", \"fa fa-arrows icon-move\", \"pan\"], [\"Zoom\", \"Zoom to rectangle\", \"fa fa-square-o icon-check-empty\", \"zoom\"], [\"\", \"\", \"\", \"\"], [\"Download\", \"Download plot\", \"fa fa-floppy-o icon-save\", \"download\"]];\n",
       "\n",
       "mpl.extensions = [\"eps\", \"pdf\", \"png\", \"ps\", \"raw\", \"svg\"];\n",
       "\n",
       "mpl.default_extension = \"png\";var comm_websocket_adapter = function(comm) {\n",
       "    // Create a \"websocket\"-like object which calls the given IPython comm\n",
       "    // object with the appropriate methods. Currently this is a non binary\n",
       "    // socket, so there is still some room for performance tuning.\n",
       "    var ws = {};\n",
       "\n",
       "    ws.close = function() {\n",
       "        comm.close()\n",
       "    };\n",
       "    ws.send = function(m) {\n",
       "        //console.log('sending', m);\n",
       "        comm.send(m);\n",
       "    };\n",
       "    // Register the callback with on_msg.\n",
       "    comm.on_msg(function(msg) {\n",
       "        //console.log('receiving', msg['content']['data'], msg);\n",
       "        // Pass the mpl event to the overriden (by mpl) onmessage function.\n",
       "        ws.onmessage(msg['content']['data'])\n",
       "    });\n",
       "    return ws;\n",
       "}\n",
       "\n",
       "mpl.mpl_figure_comm = function(comm, msg) {\n",
       "    // This is the function which gets called when the mpl process\n",
       "    // starts-up an IPython Comm through the \"matplotlib\" channel.\n",
       "\n",
       "    var id = msg.content.data.id;\n",
       "    // Get hold of the div created by the display call when the Comm\n",
       "    // socket was opened in Python.\n",
       "    var element = $(\"#\" + id);\n",
       "    var ws_proxy = comm_websocket_adapter(comm)\n",
       "\n",
       "    function ondownload(figure, format) {\n",
       "        window.open(figure.imageObj.src);\n",
       "    }\n",
       "\n",
       "    var fig = new mpl.figure(id, ws_proxy,\n",
       "                           ondownload,\n",
       "                           element.get(0));\n",
       "\n",
       "    // Call onopen now - mpl needs it, as it is assuming we've passed it a real\n",
       "    // web socket which is closed, not our websocket->open comm proxy.\n",
       "    ws_proxy.onopen();\n",
       "\n",
       "    fig.parent_element = element.get(0);\n",
       "    fig.cell_info = mpl.find_output_cell(\"<div id='\" + id + \"'></div>\");\n",
       "    if (!fig.cell_info) {\n",
       "        console.error(\"Failed to find cell for figure\", id, fig);\n",
       "        return;\n",
       "    }\n",
       "\n",
       "    var output_index = fig.cell_info[2]\n",
       "    var cell = fig.cell_info[0];\n",
       "\n",
       "};\n",
       "\n",
       "mpl.figure.prototype.handle_close = function(fig, msg) {\n",
       "    fig.root.unbind('remove')\n",
       "\n",
       "    // Update the output cell to use the data from the current canvas.\n",
       "    fig.push_to_output();\n",
       "    var dataURL = fig.canvas.toDataURL();\n",
       "    // Re-enable the keyboard manager in IPython - without this line, in FF,\n",
       "    // the notebook keyboard shortcuts fail.\n",
       "    IPython.keyboard_manager.enable()\n",
       "    $(fig.parent_element).html('<img src=\"' + dataURL + '\">');\n",
       "    fig.close_ws(fig, msg);\n",
       "}\n",
       "\n",
       "mpl.figure.prototype.close_ws = function(fig, msg){\n",
       "    fig.send_message('closing', msg);\n",
       "    // fig.ws.close()\n",
       "}\n",
       "\n",
       "mpl.figure.prototype.push_to_output = function(remove_interactive) {\n",
       "    // Turn the data on the canvas into data in the output cell.\n",
       "    var dataURL = this.canvas.toDataURL();\n",
       "    this.cell_info[1]['text/html'] = '<img src=\"' + dataURL + '\">';\n",
       "}\n",
       "\n",
       "mpl.figure.prototype.updated_canvas_event = function() {\n",
       "    // Tell IPython that the notebook contents must change.\n",
       "    IPython.notebook.set_dirty(true);\n",
       "    this.send_message(\"ack\", {});\n",
       "    var fig = this;\n",
       "    // Wait a second, then push the new image to the DOM so\n",
       "    // that it is saved nicely (might be nice to debounce this).\n",
       "    setTimeout(function () { fig.push_to_output() }, 1000);\n",
       "}\n",
       "\n",
       "mpl.figure.prototype._init_toolbar = function() {\n",
       "    var fig = this;\n",
       "\n",
       "    var nav_element = $('<div/>')\n",
       "    nav_element.attr('style', 'width: 100%');\n",
       "    this.root.append(nav_element);\n",
       "\n",
       "    // Define a callback function for later on.\n",
       "    function toolbar_event(event) {\n",
       "        return fig.toolbar_button_onclick(event['data']);\n",
       "    }\n",
       "    function toolbar_mouse_event(event) {\n",
       "        return fig.toolbar_button_onmouseover(event['data']);\n",
       "    }\n",
       "\n",
       "    for(var toolbar_ind in mpl.toolbar_items){\n",
       "        var name = mpl.toolbar_items[toolbar_ind][0];\n",
       "        var tooltip = mpl.toolbar_items[toolbar_ind][1];\n",
       "        var image = mpl.toolbar_items[toolbar_ind][2];\n",
       "        var method_name = mpl.toolbar_items[toolbar_ind][3];\n",
       "\n",
       "        if (!name) { continue; };\n",
       "\n",
       "        var button = $('<button class=\"btn btn-default\" href=\"#\" title=\"' + name + '\"><i class=\"fa ' + image + ' fa-lg\"></i></button>');\n",
       "        button.click(method_name, toolbar_event);\n",
       "        button.mouseover(tooltip, toolbar_mouse_event);\n",
       "        nav_element.append(button);\n",
       "    }\n",
       "\n",
       "    // Add the status bar.\n",
       "    var status_bar = $('<span class=\"mpl-message\" style=\"text-align:right; float: right;\"/>');\n",
       "    nav_element.append(status_bar);\n",
       "    this.message = status_bar[0];\n",
       "\n",
       "    // Add the close button to the window.\n",
       "    var buttongrp = $('<div class=\"btn-group inline pull-right\"></div>');\n",
       "    var button = $('<button class=\"btn btn-mini btn-primary\" href=\"#\" title=\"Stop Interaction\"><i class=\"fa fa-power-off icon-remove icon-large\"></i></button>');\n",
       "    button.click(function (evt) { fig.handle_close(fig, {}); } );\n",
       "    button.mouseover('Stop Interaction', toolbar_mouse_event);\n",
       "    buttongrp.append(button);\n",
       "    var titlebar = this.root.find($('.ui-dialog-titlebar'));\n",
       "    titlebar.prepend(buttongrp);\n",
       "}\n",
       "\n",
       "mpl.figure.prototype._root_extra_style = function(el){\n",
       "    var fig = this\n",
       "    el.on(\"remove\", function(){\n",
       "\tfig.close_ws(fig, {});\n",
       "    });\n",
       "}\n",
       "\n",
       "mpl.figure.prototype._canvas_extra_style = function(el){\n",
       "    // this is important to make the div 'focusable\n",
       "    el.attr('tabindex', 0)\n",
       "    // reach out to IPython and tell the keyboard manager to turn it's self\n",
       "    // off when our div gets focus\n",
       "\n",
       "    // location in version 3\n",
       "    if (IPython.notebook.keyboard_manager) {\n",
       "        IPython.notebook.keyboard_manager.register_events(el);\n",
       "    }\n",
       "    else {\n",
       "        // location in version 2\n",
       "        IPython.keyboard_manager.register_events(el);\n",
       "    }\n",
       "\n",
       "}\n",
       "\n",
       "mpl.figure.prototype._key_event_extra = function(event, name) {\n",
       "    var manager = IPython.notebook.keyboard_manager;\n",
       "    if (!manager)\n",
       "        manager = IPython.keyboard_manager;\n",
       "\n",
       "    // Check for shift+enter\n",
       "    if (event.shiftKey && event.which == 13) {\n",
       "        this.canvas_div.blur();\n",
       "        event.shiftKey = false;\n",
       "        // Send a \"J\" for go to next cell\n",
       "        event.which = 74;\n",
       "        event.keyCode = 74;\n",
       "        manager.command_mode();\n",
       "        manager.handle_keydown(event);\n",
       "    }\n",
       "}\n",
       "\n",
       "mpl.figure.prototype.handle_save = function(fig, msg) {\n",
       "    fig.ondownload(fig, null);\n",
       "}\n",
       "\n",
       "\n",
       "mpl.find_output_cell = function(html_output) {\n",
       "    // Return the cell and output element which can be found *uniquely* in the notebook.\n",
       "    // Note - this is a bit hacky, but it is done because the \"notebook_saving.Notebook\"\n",
       "    // IPython event is triggered only after the cells have been serialised, which for\n",
       "    // our purposes (turning an active figure into a static one), is too late.\n",
       "    var cells = IPython.notebook.get_cells();\n",
       "    var ncells = cells.length;\n",
       "    for (var i=0; i<ncells; i++) {\n",
       "        var cell = cells[i];\n",
       "        if (cell.cell_type === 'code'){\n",
       "            for (var j=0; j<cell.output_area.outputs.length; j++) {\n",
       "                var data = cell.output_area.outputs[j];\n",
       "                if (data.data) {\n",
       "                    // IPython >= 3 moved mimebundle to data attribute of output\n",
       "                    data = data.data;\n",
       "                }\n",
       "                if (data['text/html'] == html_output) {\n",
       "                    return [cell, data, j];\n",
       "                }\n",
       "            }\n",
       "        }\n",
       "    }\n",
       "}\n",
       "\n",
       "// Register the function which deals with the matplotlib target/channel.\n",
       "// The kernel may be null if the page has been refreshed.\n",
       "if (IPython.notebook.kernel != null) {\n",
       "    IPython.notebook.kernel.comm_manager.register_target('matplotlib', mpl.mpl_figure_comm);\n",
       "}\n"
      ],
      "text/plain": [
       "<IPython.core.display.Javascript object>"
      ]
     },
     "metadata": {},
     "output_type": "display_data"
    },
    {
     "data": {
      "text/html": [
       "<img src=\"data:image/png;base64,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\">"
      ],
      "text/plain": [
       "<IPython.core.display.HTML object>"
      ]
     },
     "metadata": {},
     "output_type": "display_data"
    }
   ],
   "source": [
    "data7 = rec_contr.acquisition()\n",
    "qc.MatPlot(data7[1])"
   ]
  },
  {
   "cell_type": "code",
   "execution_count": 16,
   "metadata": {
    "collapsed": false
   },
   "outputs": [
    {
     "name": "stdout",
     "output_type": "stream",
     "text": [
      "DataSet:\n",
      "   mode     = DataMode.LOCAL\n",
      "   location = '2016-11-08/11-29-47_AlazarTest'\n",
      "   <Type>   | <array_id>               | <array.name> | <array.shape>\n",
      "   Setpoint | dummy_set                | dummy        | (5,)\n",
      "   Measured | record_num               | record_num   | (5, 20)\n",
      "   Measured | rec_controller_magnitude | magnitude    | (5, 20)\n",
      "   Measured | rec_controller_phase     | phase        | (5, 20)\n",
      "started at 2016-11-08 11:29:49\n"
     ]
    }
   ],
   "source": [
    "dummy = parameter.ManualParameter(name=\"dummy\")\n",
    "data8 = qc.Loop(dummy[0:5:1]).each(\n",
    "    rec_contr.acquisition).run(name='AlazarTest')"
   ]
  },
  {
   "cell_type": "code",
   "execution_count": 17,
   "metadata": {
    "collapsed": false
   },
   "outputs": [
    {
     "data": {
      "text/plain": [
       "<qcodes.plots.pyqtgraph.QtPlot at 0xadc4d68>"
      ]
     },
     "execution_count": 17,
     "metadata": {},
     "output_type": "execute_result"
    }
   ],
   "source": [
    "qc.QtPlot(data8.rec_controller_magnitude)"
   ]
  }
 ],
 "metadata": {
  "anaconda-cloud": {},
  "kernelspec": {
   "display_name": "Python 3",
   "language": "python",
   "name": "python3"
  },
  "language_info": {
   "codemirror_mode": {
    "name": "ipython",
    "version": 3
   },
   "file_extension": ".py",
   "mimetype": "text/x-python",
   "name": "python",
   "nbconvert_exporter": "python",
   "pygments_lexer": "ipython3",
   "version": "3.5.2"
  },
  "widgets": {
   "state": {},
   "version": "1.1.2"
  }
 },
 "nbformat": 4,
 "nbformat_minor": 0
}
