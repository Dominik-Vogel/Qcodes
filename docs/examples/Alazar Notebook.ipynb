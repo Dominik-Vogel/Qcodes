{
 "cells": [
  {
   "cell_type": "code",
   "execution_count": 1,
   "metadata": {
    "collapsed": false
   },
   "outputs": [
    {
     "name": "stdout",
     "output_type": "stream",
     "text": [
      "No loop running\n"
     ]
    }
   ],
   "source": [
    "import qcodes as qc\n",
    "qc.halt_bg()\n",
    "import numpy as np\n",
    "\n",
    "# Saving parameters\n",
    "Samplename = '6QAK3_A2_qcodes';\n",
    "loc_provider = qc.data.location.FormatLocation(fmt='A:/TransmonExperiments/GoogleDrive/T2acquisition/Data/%s/data/{counter}' % Samplename)\n",
    "qc.data.data_set.DataSet.location_provider=loc_provider\n",
    "station = qc.Station()"
   ]
  },
  {
   "cell_type": "code",
   "execution_count": 1,
   "metadata": {
    "collapsed": false
   },
   "outputs": [
    {
     "name": "stdout",
     "output_type": "stream",
     "text": [
      "No loop running\n",
      "Connected to: Rohde&Schwarz SGS100A (serial:1416.0505k02/103076, firmware:3.1.19.7-3.20.140.60.1) in 0.03s\n",
      "Connected to: Rohde&Schwarz SGS100A (serial:1416.0505k02/103079, firmware:3.1.19.7-3.20.140.60.1) in 0.01s\n",
      "Connected to: Rohde&Schwarz SGS100A (serial:1416.0505k02/103077, firmware:3.1.19.7-3.20.140.60.1) in 0.01s\n"
     ]
    },
    {
     "name": "stderr",
     "output_type": "stream",
     "text": [
      "a:\\qcodes\\qcodes\\instrument\\metaclass.py:37: UserWarning: Multiprocessing is in beta, use at own risk\n",
      "  UserWarning)\n"
     ]
    },
    {
     "data": {
      "text/plain": [
       "'<RohdeSchwarz_SGS100A: C1>_2'"
      ]
     },
     "execution_count": 1,
     "metadata": {},
     "output_type": "execute_result"
    }
   ],
   "source": [
    "import qcodes.instrument_drivers.rohde_schwarz.SGS100A as RSdriver\n",
    "localos = RSdriver.RohdeSchwarz_SGS100A('LO', 'TCPIP0::172.20.3.42::inst0::INSTR')\n",
    "cavity1 = RSdriver.RohdeSchwarz_SGS100A('C1', 'TCPIP0::172.20.3.28::inst0::INSTR')\n",
    "qubit2  = RSdriver.RohdeSchwarz_SGS100A('Q2', 'TCPIP0::172.20.3.168::inst0::INSTR')\n",
    "station.add_component(localos, cavity1, qubit2)\n",
    "fq = qubit2.frequency,lcavity.power\n",
    "\n",
    "import qcodes.instrument.parameter as parameter\n",
    "import qcodes.instrument_drivers.AlazarTech.ATS9360 as ATSdriver\n",
    "import qcodes.instrument_drivers.AlazarTech.ATS_acquisition_controllers as ats_contr\n",
    "ats_inst = ATSdriver.AlazarTech_ATS9360(name='Alazar1', server_name=\"alazar_server\")\n",
    "station.add_component(ats_inst)\n",
    "\n",
    "station.add_component(localos, cavity1, qubit2)"
   ]
  },
  {
   "cell_type": "code",
   "execution_count": 3,
   "metadata": {
    "collapsed": false
   },
   "outputs": [
    {
     "data": {
      "text/plain": [
       "{'CPLD_version': '25.16',\n",
       " 'SDK_version': '5.9.25',\n",
       " 'asopc_type': '1712554848',\n",
       " 'bits_per_sample': 12,\n",
       " 'driver_version': '5.9.25',\n",
       " 'firmware': None,\n",
       " 'latest_cal_date': '13-11-15',\n",
       " 'max_samples': 4294967294,\n",
       " 'memory_size': '4294967294',\n",
       " 'model': 'ATS9360',\n",
       " 'pcie_link_speed': '0.5GB/s',\n",
       " 'pcie_link_width': '8',\n",
       " 'serial': '970344',\n",
       " 'vendor': 'AlazarTech'}"
      ]
     },
     "execution_count": 3,
     "metadata": {},
     "output_type": "execute_result"
    }
   ],
   "source": [
    "ats_inst.get_idn()"
   ]
  },
  {
   "cell_type": "code",
   "execution_count": 4,
   "metadata": {
    "collapsed": true
   },
   "outputs": [],
   "source": [
    "# Configure all settings in the Alazar card\n",
    "ats_inst.config(clock_source='EXTERNAL_CLOCK_10MHz_REF',\n",
    "                sample_rate='10MHZ_REF_500MSPS',\n",
    "                clock_edge='CLOCK_EDGE_RISING',\n",
    "                decimation=1,\n",
    "                coupling=['DC','DC'],\n",
    "                channel_range=[.4,.4],\n",
    "                impedance=[50,50],\n",
    "                trigger_operation='TRIG_ENGINE_OP_J',\n",
    "                trigger_engine1='TRIG_ENGINE_J',\n",
    "                trigger_source1='EXTERNAL',\n",
    "                trigger_slope1='TRIG_SLOPE_POSITIVE',\n",
    "                trigger_level1=140,\n",
    "                trigger_engine2='TRIG_ENGINE_K',\n",
    "                trigger_source2='DISABLE',\n",
    "                trigger_slope2='TRIG_SLOPE_POSITIVE',\n",
    "                trigger_level2=128,\n",
    "                external_trigger_coupling='DC',\n",
    "                external_trigger_range='ETR_2V5',\n",
    "                trigger_delay=0,\n",
    "                timeout_ticks=0,\n",
    "                aux_io_mode='AUX_IN_AUXILIARY',\n",
    "                aux_io_param='NONE'\n",
    "                #aux_io_mode='AUX_IN_TRIGGER_ENABLE', \n",
    "                #aux_io_param='TRIG_SLOPE_POSITIVE'\n",
    ")"
   ]
  },
  {
   "cell_type": "code",
   "execution_count": 11,
   "metadata": {
    "collapsed": false
   },
   "outputs": [
    {
     "name": "stderr",
     "output_type": "stream",
     "text": [
      "a:\\qcodes\\qcodes\\instrument\\metaclass.py:37: UserWarning: Multiprocessing is in beta, use at own risk\n",
      "  UserWarning)\n"
     ]
    }
   ],
   "source": [
    "import qcodes.instrument_drivers.AlazarTech.Samp_controller as sample_controller\n",
    "\n",
    "samp_cont = sample_controller.HD_Samples_Controller(name='samples_controller', \n",
    "                                                      alazar_name='Alazar1', \n",
    "                                                      demod_freq = 5e6,\n",
    "                                                      server_name=\"alazar_server\")"
   ]
  },
  {
   "cell_type": "code",
   "execution_count": 45,
   "metadata": {
    "collapsed": false
   },
   "outputs": [
    {
     "name": "stderr",
     "output_type": "stream",
     "text": [
      "a:\\qcodes\\qcodes\\instrument\\metaclass.py:37: UserWarning: Multiprocessing is in beta, use at own risk\n",
      "  UserWarning)\n"
     ]
    }
   ],
   "source": [
    "samp_cont3 = sample_controller.HD_Samples_Controller(name='samples_controller3', \n",
    "                                                      alazar_name='Alazar1', \n",
    "                                                      demod_freq = 20e6,\n",
    "                                                      server_name=\"alazar_server\")"
   ]
  },
  {
   "cell_type": "code",
   "execution_count": 52,
   "metadata": {
    "collapsed": false
   },
   "outputs": [],
   "source": [
    "samp_cont3.update_acquisitionkwargs(#mode='NPT',\n",
    "                 samples_per_record=2560,\n",
    "                 records_per_buffer=1000,\n",
    "                 buffers_per_acquisition=10,\n",
    "                 int_delay=2e-7,\n",
    "                 int_time =3e-6,\n",
    "                 allocated_buffers=1,\n",
    "                 #buffer_timeout=1000\n",
    ")"
   ]
  },
  {
   "cell_type": "code",
   "execution_count": 60,
   "metadata": {
    "collapsed": false
   },
   "outputs": [],
   "source": [
    "demod_freq = 20e6\n",
    "\n",
    "cavity1.power(-50)\n",
    "cavity1.frequency(7.147e9)\n",
    "\n",
    "localos.power(15)\n",
    "set_localos(demod_freq)\n",
    "\n",
    "qubit2.power(-60)\n",
    "qubit2.frequency(7.5e9)\n",
    "\n",
    "localos.status('on')\n",
    "cavity1.status('on')\n",
    "qubit2.status('off')"
   ]
  },
  {
   "cell_type": "code",
   "execution_count": 49,
   "metadata": {
    "collapsed": false,
    "scrolled": true
   },
   "outputs": [
    {
     "name": "stdout",
     "output_type": "stream",
     "text": [
      "DataSet:\n",
      "   mode     = DataMode.LOCAL\n",
      "   location = 'A:/TransmonExperiments/GoogleDrive/T2acquisition/Data/6QAK3_A2_qcodes/data/027'\n",
      "   <Type>   | <array_id>                    | <array.name> | <array.shape>\n",
      "   Setpoint | C1_frequency_set              | frequency    | (81,)\n",
      "   Measured | sample_num                    | sample_num   | (81, 2560)\n",
      "   Measured | samples_controller3_magnitude | magnitude    | (81, 2560)\n",
      "   Measured | samples_controller3_phase     | phase        | (81, 2560)\n",
      "started at 2016-11-18 20:11:44\n"
     ]
    }
   ],
   "source": [
    "loop = qc.Loop(cavity1.frequency.sweep(7.13e9,7.15e9, 0.25e6)).each(samp_cont3.acquisition,\n",
    "            qc.Task(localos.frequency.set, (cavity1.frequency+ demod_freq)))\n",
    "data = loop.get_data_set()\n",
    "plot = qc.QtPlot()\n",
    "plot.add(data.samples_controller3_magnitude)\n",
    "plot.add(data.samples_controller3_phase, subplot=2)\n",
    "_ = loop.with_bg_task(plot.update, plot.save).run()"
   ]
  },
  {
   "cell_type": "code",
   "execution_count": 17,
   "metadata": {
    "collapsed": false
   },
   "outputs": [
    {
     "data": {
      "text/plain": [
       "2560"
      ]
     },
     "execution_count": 17,
     "metadata": {},
     "output_type": "execute_result"
    }
   ],
   "source": [
    "2048 + 512"
   ]
  },
  {
   "cell_type": "code",
   "execution_count": 30,
   "metadata": {
    "collapsed": false
   },
   "outputs": [
    {
     "data": {
      "text/plain": [
       "7151300000.0"
      ]
     },
     "execution_count": 30,
     "metadata": {},
     "output_type": "execute_result"
    }
   ],
   "source": [
    "localos.frequency()"
   ]
  },
  {
   "cell_type": "code",
   "execution_count": 26,
   "metadata": {
    "collapsed": false
   },
   "outputs": [
    {
     "data": {
      "text/plain": [
       "7146300000.0"
      ]
     },
     "execution_count": 26,
     "metadata": {},
     "output_type": "execute_result"
    }
   ],
   "source": [
    "cavity1.frequency()"
   ]
  },
  {
   "cell_type": "code",
   "execution_count": 53,
   "metadata": {
    "collapsed": false
   },
   "outputs": [
    {
     "name": "stderr",
     "output_type": "stream",
     "text": [
      "a:\\qcodes\\qcodes\\instrument\\metaclass.py:37: UserWarning: Multiprocessing is in beta, use at own risk\n",
      "  UserWarning)\n"
     ]
    }
   ],
   "source": [
    "import qcodes.instrument_drivers.AlazarTech.Single_controller as single_controller\n",
    "\n",
    "sing_contr = single_controller.HD_Controller(name='single_controller', \n",
    "                                                      alazar_name='Alazar1', \n",
    "                                                      demod_freq = 20e6,\n",
    "                                                      server_name=\"alazar_server\")"
   ]
  },
  {
   "cell_type": "code",
   "execution_count": 55,
   "metadata": {
    "collapsed": true
   },
   "outputs": [],
   "source": [
    "sing_contr.update_acquisitionkwargs(#mode='NPT',\n",
    "                 samples_per_record=2560,\n",
    "                 records_per_buffer=1000,\n",
    "                 buffers_per_acquisition=10,\n",
    "                 int_delay=2e-7,\n",
    "                 int_time =3e-6,\n",
    "                 allocated_buffers=1,\n",
    "                 #buffer_timeout=1000\n",
    ")"
   ]
  },
  {
   "cell_type": "code",
   "execution_count": 68,
   "metadata": {
    "collapsed": false
   },
   "outputs": [
    {
     "name": "stdout",
     "output_type": "stream",
     "text": [
      "DataSet:\n",
      "   mode     = DataMode.LOCAL\n",
      "   location = 'A:/TransmonExperiments/GoogleDrive/T2acquisition/Data/6QAK3_A2_qcodes/data/031'\n",
      "   <Type>   | <array_id>                  | <array.name> | <array.shape>\n",
      "   Setpoint | C1_frequency_set            | frequency    | (81,)\n",
      "   Measured | single_controller_magnitude | magnitude    | (81,)\n",
      "   Measured | single_controller_phase     | phase        | (81,)\n",
      "started at 2016-11-18 20:30:59\n"
     ]
    }
   ],
   "source": [
    "loop = qc.Loop(cavity1.frequency.sweep(7.13e9,7.15e9, 0.25e6)).each(sing_contr.acquisition,\n",
    "            qc.Task(localos.frequency.set, (cavity1.frequency+ demod_freq)))\n",
    "data = loop.get_data_set()\n",
    "plot = qc.QtPlot()\n",
    "plot.add(data.single_controller_magnitude)\n",
    "plot.add(data.single_controller_phase, subplot=2)\n",
    "_ = loop.with_bg_task(plot.update, plot.save).run()"
   ]
  },
  {
   "cell_type": "code",
   "execution_count": 2,
   "metadata": {
    "collapsed": false
   },
   "outputs": [
    {
     "name": "stderr",
     "output_type": "stream",
     "text": [
      "a:\\qcodes\\qcodes\\plots\\pyqtgraph.py:325: UserWarning: nonlinear setpoint array passed to pyqtgraph. ignoring, using default scaling.\n",
      "  warnings.warn('nonlinear setpoint array passed to pyqtgraph. '\n"
     ]
    },
    {
     "data": {
      "image/png": "[encoded data removed]",
      "text/plain": [
       "<qcodes.plots.pyqtgraph.QtPlot at 0x9f1f358>"
      ]
     },
     "execution_count": 2,
     "metadata": {},
     "output_type": "execute_result"
    }
   ],
   "source": [
    "loaded_data = qc.load_data(loc_provider.formatter.format(loc_provider.fmt,counter='014'))\n",
    "plot = qc.QtPlot()\n",
    "plot.add(loaded_data.VNA_magnitude)\n",
    "plot.add(loaded_data.VNA_phase, subplot=2)\n",
    "#plot.save()"
   ]
  },
  {
   "cell_type": "code",
   "execution_count": 69,
   "metadata": {
    "collapsed": true
   },
   "outputs": [],
   "source": [
    "demod_freq = 20e6\n",
    "\n",
    "cavity1.power(-55)\n",
    "cavity1.frequency(7.133e9)\n",
    "\n",
    "localos.power(15)\n",
    "set_localos(demod_freq)\n",
    "\n",
    "qubit2.power(-30)\n",
    "qubit2.frequency(7.5e9)\n",
    "\n",
    "localos.status('on')\n",
    "cavity1.status('on')\n",
    "qubit2.status('on')"
   ]
  },
  {
   "cell_type": "code",
   "execution_count": 75,
   "metadata": {
    "collapsed": false
   },
   "outputs": [
    {
     "name": "stdout",
     "output_type": "stream",
     "text": [
      "DataSet:\n",
      "   mode     = DataMode.LOCAL\n",
      "   location = 'A:/TransmonExperiments/GoogleDrive/T2acquisition/Data/6QAK3_A2_qcodes/data/034'\n",
      "   <Type>   | <array_id>                  | <array.name> | <array.shape>\n",
      "   Setpoint | Q2_frequency_set            | frequency    | (251,)\n",
      "   Measured | single_controller_magnitude | magnitude    | (251,)\n",
      "   Measured | single_controller_phase     | phase        | (251,)\n",
      "started at 2016-11-18 20:50:01\n"
     ]
    }
   ],
   "source": [
    "loop = qc.Loop(qubit2.frequency.sweep(8e9,8.5e9, 2e6)).each(sing_contr.acquisition)\n",
    "data = loop.get_data_set()\n",
    "plot = qc.QtPlot()\n",
    "plot.add(data.single_controller_magnitude)\n",
    "plot.add(data.single_controller_phase, subplot=2)\n",
    "_ = loop.with_bg_task(plot.update, plot.save).run()"
   ]
  },
  {
   "cell_type": "code",
   "execution_count": 76,
   "metadata": {
    "collapsed": false
   },
   "outputs": [
    {
     "name": "stderr",
     "output_type": "stream",
     "text": [
      "a:\\qcodes\\qcodes\\instrument\\metaclass.py:37: UserWarning: Multiprocessing is in beta, use at own risk\n",
      "  UserWarning)\n"
     ]
    }
   ],
   "source": [
    "sing_contr2 = single_controller.HD_Controller(name='single_controller2', \n",
    "                                                      alazar_name='Alazar1', \n",
    "                                                      demod_freq = 20e6,\n",
    "                                                      server_name=\"alazar_server\",\n",
    "                                                     filt='dot')"
   ]
  },
  {
   "cell_type": "code",
   "execution_count": 79,
   "metadata": {
    "collapsed": true
   },
   "outputs": [],
   "source": [
    "sing_contr2.update_acquisitionkwargs(#mode='NPT',\n",
    "                 samples_per_record=2560,\n",
    "                 records_per_buffer=1000,\n",
    "                 buffers_per_acquisition=1,\n",
    "                 int_delay=2e-7,\n",
    "                 int_time =3e-6,\n",
    "                 allocated_buffers=1,\n",
    "                 #buffer_timeout=1000\n",
    ")"
   ]
  },
  {
   "cell_type": "code",
   "execution_count": 80,
   "metadata": {
    "collapsed": false
   },
   "outputs": [
    {
     "name": "stdout",
     "output_type": "stream",
     "text": [
      "DataSet:\n",
      "   mode     = DataMode.LOCAL\n",
      "   location = 'A:/TransmonExperiments/GoogleDrive/T2acquisition/Data/6QAK3_A2_qcodes/data/036'\n",
      "   <Type>   | <array_id>                   | <array.name> | <array.shape>\n",
      "   Setpoint | Q2_frequency_set             | frequency    | (251,)\n",
      "   Measured | single_controller2_magnitude | magnitude    | (251,)\n",
      "   Measured | single_controller2_phase     | phase        | (251,)\n",
      "started at 2016-11-18 20:56:48\n"
     ]
    }
   ],
   "source": [
    "loop = qc.Loop(qubit2.frequency.sweep(8e9,8.5e9, 2e6)).each(sing_contr2.acquisition)\n",
    "data = loop.get_data_set()\n",
    "plot = qc.QtPlot()\n",
    "plot.add(data.single_controller2_magnitude)\n",
    "plot.add(data.single_controller2_phase, subplot=2)\n",
    "_ = loop.with_bg_task(plot.update, plot.save).run()"
   ]
  },
  {
   "cell_type": "code",
   "execution_count": 81,
   "metadata": {
    "collapsed": true
   },
   "outputs": [],
   "source": [
    "localos.status('off')\n",
    "cavity1.status('off')\n",
    "qubit2.status('off')"
   ]
  },
  {
   "cell_type": "code",
   "execution_count": null,
   "metadata": {
    "collapsed": true
   },
   "outputs": [],
   "source": []
  }
 ],
 "metadata": {
  "kernelspec": {
   "display_name": "Python 3",
   "language": "python",
   "name": "python3"
  },
  "language_info": {
   "codemirror_mode": {
    "name": "ipython",
    "version": 3
   },
   "file_extension": ".py",
   "mimetype": "text/x-python",
   "name": "python",
   "nbconvert_exporter": "python",
   "pygments_lexer": "ipython3",
   "version": "3.5.2"
  }
 },
 "nbformat": 4,
 "nbformat_minor": 1
}
